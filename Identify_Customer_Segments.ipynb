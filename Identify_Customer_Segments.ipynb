{
 "cells": [
  {
   "cell_type": "markdown",
   "metadata": {},
   "source": [
    "# Project: Identify Customer Segments\n",
    "\n",
    "In this project, you will apply unsupervised learning techniques to identify segments of the population that form the core customer base for a mail-order sales company in Germany. These segments can then be used to direct marketing campaigns towards audiences that will have the highest expected rate of returns. The data that you will use has been provided by our partners at Bertelsmann Arvato Analytics, and represents a real-life data science task.\n",
    "\n",
    "This notebook will help you complete this task by providing a framework within which you will perform your analysis steps. In each step of the project, you will see some text describing the subtask that you will perform, followed by one or more code cells for you to complete your work. **Feel free to add additional code and markdown cells as you go along so that you can explore everything in precise chunks.** The code cells provided in the base template will outline only the major tasks, and will usually not be enough to cover all of the minor tasks that comprise it.\n",
    "\n",
    "It should be noted that while there will be precise guidelines on how you should handle certain tasks in the project, there will also be places where an exact specification is not provided. **There will be times in the project where you will need to make and justify your own decisions on how to treat the data.** These are places where there may not be only one way to handle the data. In real-life tasks, there may be many valid ways to approach an analysis task. One of the most important things you can do is clearly document your approach so that other scientists can understand the decisions you've made.\n",
    "\n",
    "At the end of most sections, there will be a Markdown cell labeled **Discussion**. In these cells, you will report your findings for the completed section, as well as document the decisions that you made in your approach to each subtask. **Your project will be evaluated not just on the code used to complete the tasks outlined, but also your communication about your observations and conclusions at each stage.**"
   ]
  },
  {
   "cell_type": "code",
   "execution_count": 1,
   "metadata": {},
   "outputs": [],
   "source": [
    "# import libraries here; add more as necessary\n",
    "import numpy as np\n",
    "import pandas as pd\n",
    "import matplotlib.pyplot as plt\n",
    "import seaborn as sns\n",
    "import warnings\n",
    "from tqdm import tqdm\n",
    "from scipy.stats import ks_2samp\n",
    "from sklearn.preprocessing import StandardScaler\n",
    "from sklearn.decomposition import PCA\n",
    "from sklearn.cluster import KMeans\n",
    "\n",
    "# magic word for producing visualizations in notebook\n",
    "%matplotlib inline\n",
    "warnings.filterwarnings('ignore')"
   ]
  },
  {
   "cell_type": "markdown",
   "metadata": {},
   "source": [
    "### Step 0: Load the Data\n",
    "\n",
    "There are four files associated with this project (not including this one):\n",
    "\n",
    "- `Udacity_AZDIAS_Subset.csv`: Demographics data for the general population of Germany; 891211 persons (rows) x 85 features (columns).\n",
    "- `Udacity_CUSTOMERS_Subset.csv`: Demographics data for customers of a mail-order company; 191652 persons (rows) x 85 features (columns).\n",
    "- `Data_Dictionary.md`: Detailed information file about the features in the provided datasets.\n",
    "- `AZDIAS_Feature_Summary.csv`: Summary of feature attributes for demographics data; 85 features (rows) x 4 columns\n",
    "\n",
    "Each row of the demographics files represents a single person, but also includes information outside of individuals, including information about their household, building, and neighborhood. You will use this information to cluster the general population into groups with similar demographic properties. Then, you will see how the people in the customers dataset fit into those created clusters. The hope here is that certain clusters are over-represented in the customers data, as compared to the general population; those over-represented clusters will be assumed to be part of the core userbase. This information can then be used for further applications, such as targeting for a marketing campaign.\n",
    "\n",
    "To start off with, load in the demographics data for the general population into a pandas DataFrame, and do the same for the feature attributes summary. Note for all of the `.csv` data files in this project: they're semicolon (`;`) delimited, so you'll need an additional argument in your [`read_csv()`](https://pandas.pydata.org/pandas-docs/stable/generated/pandas.read_csv.html) call to read in the data properly. Also, considering the size of the main dataset, it may take some time for it to load completely.\n",
    "\n",
    "Once the dataset is loaded, it's recommended that you take a little bit of time just browsing the general structure of the dataset and feature summary file. You'll be getting deep into the innards of the cleaning in the first major step of the project, so gaining some general familiarity can help you get your bearings."
   ]
  },
  {
   "cell_type": "code",
   "execution_count": 147,
   "metadata": {},
   "outputs": [],
   "source": [
    "# Load in the general demographics data.\n",
    "azdias = pd.read_csv('Udacity_AZDIAS_Subset.csv', delimiter=';')\n",
    "\n",
    "# Load in the feature summary file.\n",
    "feat_info = pd.read_csv('AZDIAS_Feature_Summary.csv', delimiter=';')"
   ]
  },
  {
   "cell_type": "code",
   "execution_count": 148,
   "metadata": {},
   "outputs": [
    {
     "data": {
      "text/html": [
       "<div>\n",
       "<style scoped>\n",
       "    .dataframe tbody tr th:only-of-type {\n",
       "        vertical-align: middle;\n",
       "    }\n",
       "\n",
       "    .dataframe tbody tr th {\n",
       "        vertical-align: top;\n",
       "    }\n",
       "\n",
       "    .dataframe thead th {\n",
       "        text-align: right;\n",
       "    }\n",
       "</style>\n",
       "<table border=\"1\" class=\"dataframe\">\n",
       "  <thead>\n",
       "    <tr style=\"text-align: right;\">\n",
       "      <th></th>\n",
       "      <th>AGER_TYP</th>\n",
       "      <th>ALTERSKATEGORIE_GROB</th>\n",
       "      <th>ANREDE_KZ</th>\n",
       "      <th>CJT_GESAMTTYP</th>\n",
       "      <th>FINANZ_MINIMALIST</th>\n",
       "      <th>FINANZ_SPARER</th>\n",
       "      <th>FINANZ_VORSORGER</th>\n",
       "      <th>FINANZ_ANLEGER</th>\n",
       "      <th>FINANZ_UNAUFFAELLIGER</th>\n",
       "      <th>FINANZ_HAUSBAUER</th>\n",
       "      <th>...</th>\n",
       "      <th>PLZ8_ANTG1</th>\n",
       "      <th>PLZ8_ANTG2</th>\n",
       "      <th>PLZ8_ANTG3</th>\n",
       "      <th>PLZ8_ANTG4</th>\n",
       "      <th>PLZ8_BAUMAX</th>\n",
       "      <th>PLZ8_HHZ</th>\n",
       "      <th>PLZ8_GBZ</th>\n",
       "      <th>ARBEIT</th>\n",
       "      <th>ORTSGR_KLS9</th>\n",
       "      <th>RELAT_AB</th>\n",
       "    </tr>\n",
       "  </thead>\n",
       "  <tbody>\n",
       "    <tr>\n",
       "      <th>0</th>\n",
       "      <td>-1</td>\n",
       "      <td>2</td>\n",
       "      <td>1</td>\n",
       "      <td>2.0</td>\n",
       "      <td>3</td>\n",
       "      <td>4</td>\n",
       "      <td>3</td>\n",
       "      <td>5</td>\n",
       "      <td>5</td>\n",
       "      <td>3</td>\n",
       "      <td>...</td>\n",
       "      <td>NaN</td>\n",
       "      <td>NaN</td>\n",
       "      <td>NaN</td>\n",
       "      <td>NaN</td>\n",
       "      <td>NaN</td>\n",
       "      <td>NaN</td>\n",
       "      <td>NaN</td>\n",
       "      <td>NaN</td>\n",
       "      <td>NaN</td>\n",
       "      <td>NaN</td>\n",
       "    </tr>\n",
       "    <tr>\n",
       "      <th>1</th>\n",
       "      <td>-1</td>\n",
       "      <td>1</td>\n",
       "      <td>2</td>\n",
       "      <td>5.0</td>\n",
       "      <td>1</td>\n",
       "      <td>5</td>\n",
       "      <td>2</td>\n",
       "      <td>5</td>\n",
       "      <td>4</td>\n",
       "      <td>5</td>\n",
       "      <td>...</td>\n",
       "      <td>2.0</td>\n",
       "      <td>3.0</td>\n",
       "      <td>2.0</td>\n",
       "      <td>1.0</td>\n",
       "      <td>1.0</td>\n",
       "      <td>5.0</td>\n",
       "      <td>4.0</td>\n",
       "      <td>3.0</td>\n",
       "      <td>5.0</td>\n",
       "      <td>4.0</td>\n",
       "    </tr>\n",
       "    <tr>\n",
       "      <th>2</th>\n",
       "      <td>-1</td>\n",
       "      <td>3</td>\n",
       "      <td>2</td>\n",
       "      <td>3.0</td>\n",
       "      <td>1</td>\n",
       "      <td>4</td>\n",
       "      <td>1</td>\n",
       "      <td>2</td>\n",
       "      <td>3</td>\n",
       "      <td>5</td>\n",
       "      <td>...</td>\n",
       "      <td>3.0</td>\n",
       "      <td>3.0</td>\n",
       "      <td>1.0</td>\n",
       "      <td>0.0</td>\n",
       "      <td>1.0</td>\n",
       "      <td>4.0</td>\n",
       "      <td>4.0</td>\n",
       "      <td>3.0</td>\n",
       "      <td>5.0</td>\n",
       "      <td>2.0</td>\n",
       "    </tr>\n",
       "    <tr>\n",
       "      <th>3</th>\n",
       "      <td>2</td>\n",
       "      <td>4</td>\n",
       "      <td>2</td>\n",
       "      <td>2.0</td>\n",
       "      <td>4</td>\n",
       "      <td>2</td>\n",
       "      <td>5</td>\n",
       "      <td>2</td>\n",
       "      <td>1</td>\n",
       "      <td>2</td>\n",
       "      <td>...</td>\n",
       "      <td>2.0</td>\n",
       "      <td>2.0</td>\n",
       "      <td>2.0</td>\n",
       "      <td>0.0</td>\n",
       "      <td>1.0</td>\n",
       "      <td>3.0</td>\n",
       "      <td>4.0</td>\n",
       "      <td>2.0</td>\n",
       "      <td>3.0</td>\n",
       "      <td>3.0</td>\n",
       "    </tr>\n",
       "    <tr>\n",
       "      <th>4</th>\n",
       "      <td>-1</td>\n",
       "      <td>3</td>\n",
       "      <td>1</td>\n",
       "      <td>5.0</td>\n",
       "      <td>4</td>\n",
       "      <td>3</td>\n",
       "      <td>4</td>\n",
       "      <td>1</td>\n",
       "      <td>3</td>\n",
       "      <td>2</td>\n",
       "      <td>...</td>\n",
       "      <td>2.0</td>\n",
       "      <td>4.0</td>\n",
       "      <td>2.0</td>\n",
       "      <td>1.0</td>\n",
       "      <td>2.0</td>\n",
       "      <td>3.0</td>\n",
       "      <td>3.0</td>\n",
       "      <td>4.0</td>\n",
       "      <td>6.0</td>\n",
       "      <td>5.0</td>\n",
       "    </tr>\n",
       "  </tbody>\n",
       "</table>\n",
       "<p>5 rows × 85 columns</p>\n",
       "</div>"
      ],
      "text/plain": [
       "   AGER_TYP  ALTERSKATEGORIE_GROB  ANREDE_KZ  CJT_GESAMTTYP  \\\n",
       "0        -1                     2          1            2.0   \n",
       "1        -1                     1          2            5.0   \n",
       "2        -1                     3          2            3.0   \n",
       "3         2                     4          2            2.0   \n",
       "4        -1                     3          1            5.0   \n",
       "\n",
       "   FINANZ_MINIMALIST  FINANZ_SPARER  FINANZ_VORSORGER  FINANZ_ANLEGER  \\\n",
       "0                  3              4                 3               5   \n",
       "1                  1              5                 2               5   \n",
       "2                  1              4                 1               2   \n",
       "3                  4              2                 5               2   \n",
       "4                  4              3                 4               1   \n",
       "\n",
       "   FINANZ_UNAUFFAELLIGER  FINANZ_HAUSBAUER    ...     PLZ8_ANTG1  PLZ8_ANTG2  \\\n",
       "0                      5                 3    ...            NaN         NaN   \n",
       "1                      4                 5    ...            2.0         3.0   \n",
       "2                      3                 5    ...            3.0         3.0   \n",
       "3                      1                 2    ...            2.0         2.0   \n",
       "4                      3                 2    ...            2.0         4.0   \n",
       "\n",
       "   PLZ8_ANTG3  PLZ8_ANTG4  PLZ8_BAUMAX  PLZ8_HHZ  PLZ8_GBZ  ARBEIT  \\\n",
       "0         NaN         NaN          NaN       NaN       NaN     NaN   \n",
       "1         2.0         1.0          1.0       5.0       4.0     3.0   \n",
       "2         1.0         0.0          1.0       4.0       4.0     3.0   \n",
       "3         2.0         0.0          1.0       3.0       4.0     2.0   \n",
       "4         2.0         1.0          2.0       3.0       3.0     4.0   \n",
       "\n",
       "   ORTSGR_KLS9  RELAT_AB  \n",
       "0          NaN       NaN  \n",
       "1          5.0       4.0  \n",
       "2          5.0       2.0  \n",
       "3          3.0       3.0  \n",
       "4          6.0       5.0  \n",
       "\n",
       "[5 rows x 85 columns]"
      ]
     },
     "execution_count": 148,
     "metadata": {},
     "output_type": "execute_result"
    }
   ],
   "source": [
    "azdias.head()"
   ]
  },
  {
   "cell_type": "code",
   "execution_count": 149,
   "metadata": {
    "scrolled": true
   },
   "outputs": [
    {
     "data": {
      "text/html": [
       "<div>\n",
       "<style scoped>\n",
       "    .dataframe tbody tr th:only-of-type {\n",
       "        vertical-align: middle;\n",
       "    }\n",
       "\n",
       "    .dataframe tbody tr th {\n",
       "        vertical-align: top;\n",
       "    }\n",
       "\n",
       "    .dataframe thead th {\n",
       "        text-align: right;\n",
       "    }\n",
       "</style>\n",
       "<table border=\"1\" class=\"dataframe\">\n",
       "  <thead>\n",
       "    <tr style=\"text-align: right;\">\n",
       "      <th></th>\n",
       "      <th>attribute</th>\n",
       "      <th>information_level</th>\n",
       "      <th>type</th>\n",
       "      <th>missing_or_unknown</th>\n",
       "    </tr>\n",
       "  </thead>\n",
       "  <tbody>\n",
       "    <tr>\n",
       "      <th>0</th>\n",
       "      <td>AGER_TYP</td>\n",
       "      <td>person</td>\n",
       "      <td>categorical</td>\n",
       "      <td>[-1,0]</td>\n",
       "    </tr>\n",
       "    <tr>\n",
       "      <th>1</th>\n",
       "      <td>ALTERSKATEGORIE_GROB</td>\n",
       "      <td>person</td>\n",
       "      <td>ordinal</td>\n",
       "      <td>[-1,0,9]</td>\n",
       "    </tr>\n",
       "    <tr>\n",
       "      <th>2</th>\n",
       "      <td>ANREDE_KZ</td>\n",
       "      <td>person</td>\n",
       "      <td>categorical</td>\n",
       "      <td>[-1,0]</td>\n",
       "    </tr>\n",
       "    <tr>\n",
       "      <th>3</th>\n",
       "      <td>CJT_GESAMTTYP</td>\n",
       "      <td>person</td>\n",
       "      <td>categorical</td>\n",
       "      <td>[0]</td>\n",
       "    </tr>\n",
       "    <tr>\n",
       "      <th>4</th>\n",
       "      <td>FINANZ_MINIMALIST</td>\n",
       "      <td>person</td>\n",
       "      <td>ordinal</td>\n",
       "      <td>[-1]</td>\n",
       "    </tr>\n",
       "  </tbody>\n",
       "</table>\n",
       "</div>"
      ],
      "text/plain": [
       "              attribute information_level         type missing_or_unknown\n",
       "0              AGER_TYP            person  categorical             [-1,0]\n",
       "1  ALTERSKATEGORIE_GROB            person      ordinal           [-1,0,9]\n",
       "2             ANREDE_KZ            person  categorical             [-1,0]\n",
       "3         CJT_GESAMTTYP            person  categorical                [0]\n",
       "4     FINANZ_MINIMALIST            person      ordinal               [-1]"
      ]
     },
     "execution_count": 149,
     "metadata": {},
     "output_type": "execute_result"
    }
   ],
   "source": [
    "feat_info.head()"
   ]
  },
  {
   "cell_type": "code",
   "execution_count": 150,
   "metadata": {},
   "outputs": [
    {
     "data": {
      "text/plain": [
       "(85, 4)"
      ]
     },
     "execution_count": 150,
     "metadata": {},
     "output_type": "execute_result"
    }
   ],
   "source": [
    "feat_info.shape"
   ]
  },
  {
   "cell_type": "code",
   "execution_count": 151,
   "metadata": {},
   "outputs": [
    {
     "data": {
      "text/plain": [
       "(891221, 85)"
      ]
     },
     "execution_count": 151,
     "metadata": {},
     "output_type": "execute_result"
    }
   ],
   "source": [
    "azdias.shape"
   ]
  },
  {
   "cell_type": "markdown",
   "metadata": {},
   "source": [
    "> **Tip**: Add additional cells to keep everything in reasonably-sized chunks! Keyboard shortcut `esc --> a` (press escape to enter command mode, then press the 'A' key) adds a new cell before the active cell, and `esc --> b` adds a new cell after the active cell. If you need to convert an active cell to a markdown cell, use `esc --> m` and to convert to a code cell, use `esc --> y`. \n",
    "\n",
    "## Step 1: Preprocessing\n",
    "\n",
    "### Step 1.1: Assess Missing Data\n",
    "\n",
    "The feature summary file contains a summary of properties for each demographics data column. You will use this file to help you make cleaning decisions during this stage of the project. First of all, you should assess the demographics data in terms of missing data. Pay attention to the following points as you perform your analysis, and take notes on what you observe. Make sure that you fill in the **Discussion** cell with your findings and decisions at the end of each step that has one!\n",
    "\n",
    "#### Step 1.1.1: Convert Missing Value Codes to NaNs\n",
    "The fourth column of the feature attributes summary (loaded in above as `feat_info`) documents the codes from the data dictionary that indicate missing or unknown data. While the file encodes this as a list (e.g. `[-1,0]`), this will get read in as a string object. You'll need to do a little bit of parsing to make use of it to identify and clean the data. Convert data that matches a 'missing' or 'unknown' value code into a numpy NaN value. You might want to see how much data takes on a 'missing' or 'unknown' code, and how much data is naturally missing, as a point of interest.\n",
    "\n",
    "**As one more reminder, you are encouraged to add additional cells to break up your analysis into manageable chunks.**"
   ]
  },
  {
   "cell_type": "code",
   "execution_count": 152,
   "metadata": {},
   "outputs": [
    {
     "data": {
      "text/plain": [
       "4896838"
      ]
     },
     "execution_count": 152,
     "metadata": {},
     "output_type": "execute_result"
    }
   ],
   "source": [
    "azdias.isna().sum().sum()"
   ]
  },
  {
   "cell_type": "code",
   "execution_count": 153,
   "metadata": {},
   "outputs": [
    {
     "data": {
      "text/plain": [
       "AGER_TYP                   0\n",
       "ALTERSKATEGORIE_GROB       0\n",
       "ANREDE_KZ                  0\n",
       "CJT_GESAMTTYP           4854\n",
       "FINANZ_MINIMALIST          0\n",
       "dtype: int64"
      ]
     },
     "execution_count": 153,
     "metadata": {},
     "output_type": "execute_result"
    }
   ],
   "source": [
    "azdias.isna().sum().head()"
   ]
  },
  {
   "cell_type": "code",
   "execution_count": 154,
   "metadata": {},
   "outputs": [],
   "source": [
    "def make_list(value):\n",
    "    value = value.strip('][').split(',')\n",
    "    return(value)\n",
    "\n",
    "def process_string(value):\n",
    "    try:\n",
    "        int(value)\n",
    "        return(int(value))\n",
    "    except:\n",
    "        return(str(value))"
   ]
  },
  {
   "cell_type": "code",
   "execution_count": 155,
   "metadata": {},
   "outputs": [],
   "source": [
    "temp_data = feat_info[['attribute', 'missing_or_unknown']]\n",
    "temp_data['missing_or_unknown'] = temp_data.missing_or_unknown.apply(make_list)\n",
    "temp_data['missing_or_unknown'] = temp_data.missing_or_unknown.apply(lambda y: [process_string(value) for value in y])\n",
    "temp_data.index = temp_data.attribute\n",
    "temp_data.drop('attribute', inplace=True, axis=1)"
   ]
  },
  {
   "cell_type": "code",
   "execution_count": 156,
   "metadata": {},
   "outputs": [
    {
     "name": "stderr",
     "output_type": "stream",
     "text": [
      "100%|██████████| 85/85 [00:03<00:00, 23.34it/s]\n"
     ]
    }
   ],
   "source": [
    "columns = azdias.columns\n",
    "for column in tqdm(columns):\n",
    "    azdias[column] = azdias[column].replace(temp_data.loc[column][0], np.nan)"
   ]
  },
  {
   "cell_type": "code",
   "execution_count": 157,
   "metadata": {},
   "outputs": [
    {
     "data": {
      "text/plain": [
       "8373929"
      ]
     },
     "execution_count": 157,
     "metadata": {},
     "output_type": "execute_result"
    }
   ],
   "source": [
    "azdias.isna().sum().sum()"
   ]
  },
  {
   "cell_type": "code",
   "execution_count": 158,
   "metadata": {},
   "outputs": [
    {
     "name": "stdout",
     "output_type": "stream",
     "text": [
      "NaNs replaced: 3477091\n"
     ]
    }
   ],
   "source": [
    "print(\"NaNs replaced: {}\".format(8373929 - 4896838))"
   ]
  },
  {
   "cell_type": "code",
   "execution_count": 159,
   "metadata": {
    "scrolled": true
   },
   "outputs": [
    {
     "data": {
      "text/html": [
       "<div>\n",
       "<style scoped>\n",
       "    .dataframe tbody tr th:only-of-type {\n",
       "        vertical-align: middle;\n",
       "    }\n",
       "\n",
       "    .dataframe tbody tr th {\n",
       "        vertical-align: top;\n",
       "    }\n",
       "\n",
       "    .dataframe thead th {\n",
       "        text-align: right;\n",
       "    }\n",
       "</style>\n",
       "<table border=\"1\" class=\"dataframe\">\n",
       "  <thead>\n",
       "    <tr style=\"text-align: right;\">\n",
       "      <th></th>\n",
       "      <th>AGER_TYP</th>\n",
       "      <th>ALTERSKATEGORIE_GROB</th>\n",
       "      <th>ANREDE_KZ</th>\n",
       "      <th>CJT_GESAMTTYP</th>\n",
       "      <th>FINANZ_MINIMALIST</th>\n",
       "      <th>FINANZ_SPARER</th>\n",
       "      <th>FINANZ_VORSORGER</th>\n",
       "      <th>FINANZ_ANLEGER</th>\n",
       "      <th>FINANZ_UNAUFFAELLIGER</th>\n",
       "      <th>FINANZ_HAUSBAUER</th>\n",
       "      <th>...</th>\n",
       "      <th>PLZ8_ANTG1</th>\n",
       "      <th>PLZ8_ANTG2</th>\n",
       "      <th>PLZ8_ANTG3</th>\n",
       "      <th>PLZ8_ANTG4</th>\n",
       "      <th>PLZ8_BAUMAX</th>\n",
       "      <th>PLZ8_HHZ</th>\n",
       "      <th>PLZ8_GBZ</th>\n",
       "      <th>ARBEIT</th>\n",
       "      <th>ORTSGR_KLS9</th>\n",
       "      <th>RELAT_AB</th>\n",
       "    </tr>\n",
       "  </thead>\n",
       "  <tbody>\n",
       "    <tr>\n",
       "      <th>0</th>\n",
       "      <td>NaN</td>\n",
       "      <td>2.0</td>\n",
       "      <td>1</td>\n",
       "      <td>2.0</td>\n",
       "      <td>3</td>\n",
       "      <td>4</td>\n",
       "      <td>3</td>\n",
       "      <td>5</td>\n",
       "      <td>5</td>\n",
       "      <td>3</td>\n",
       "      <td>...</td>\n",
       "      <td>NaN</td>\n",
       "      <td>NaN</td>\n",
       "      <td>NaN</td>\n",
       "      <td>NaN</td>\n",
       "      <td>NaN</td>\n",
       "      <td>NaN</td>\n",
       "      <td>NaN</td>\n",
       "      <td>NaN</td>\n",
       "      <td>NaN</td>\n",
       "      <td>NaN</td>\n",
       "    </tr>\n",
       "    <tr>\n",
       "      <th>1</th>\n",
       "      <td>NaN</td>\n",
       "      <td>1.0</td>\n",
       "      <td>2</td>\n",
       "      <td>5.0</td>\n",
       "      <td>1</td>\n",
       "      <td>5</td>\n",
       "      <td>2</td>\n",
       "      <td>5</td>\n",
       "      <td>4</td>\n",
       "      <td>5</td>\n",
       "      <td>...</td>\n",
       "      <td>2.0</td>\n",
       "      <td>3.0</td>\n",
       "      <td>2.0</td>\n",
       "      <td>1.0</td>\n",
       "      <td>1.0</td>\n",
       "      <td>5.0</td>\n",
       "      <td>4.0</td>\n",
       "      <td>3.0</td>\n",
       "      <td>5.0</td>\n",
       "      <td>4.0</td>\n",
       "    </tr>\n",
       "    <tr>\n",
       "      <th>2</th>\n",
       "      <td>NaN</td>\n",
       "      <td>3.0</td>\n",
       "      <td>2</td>\n",
       "      <td>3.0</td>\n",
       "      <td>1</td>\n",
       "      <td>4</td>\n",
       "      <td>1</td>\n",
       "      <td>2</td>\n",
       "      <td>3</td>\n",
       "      <td>5</td>\n",
       "      <td>...</td>\n",
       "      <td>3.0</td>\n",
       "      <td>3.0</td>\n",
       "      <td>1.0</td>\n",
       "      <td>0.0</td>\n",
       "      <td>1.0</td>\n",
       "      <td>4.0</td>\n",
       "      <td>4.0</td>\n",
       "      <td>3.0</td>\n",
       "      <td>5.0</td>\n",
       "      <td>2.0</td>\n",
       "    </tr>\n",
       "    <tr>\n",
       "      <th>3</th>\n",
       "      <td>2.0</td>\n",
       "      <td>4.0</td>\n",
       "      <td>2</td>\n",
       "      <td>2.0</td>\n",
       "      <td>4</td>\n",
       "      <td>2</td>\n",
       "      <td>5</td>\n",
       "      <td>2</td>\n",
       "      <td>1</td>\n",
       "      <td>2</td>\n",
       "      <td>...</td>\n",
       "      <td>2.0</td>\n",
       "      <td>2.0</td>\n",
       "      <td>2.0</td>\n",
       "      <td>0.0</td>\n",
       "      <td>1.0</td>\n",
       "      <td>3.0</td>\n",
       "      <td>4.0</td>\n",
       "      <td>2.0</td>\n",
       "      <td>3.0</td>\n",
       "      <td>3.0</td>\n",
       "    </tr>\n",
       "    <tr>\n",
       "      <th>4</th>\n",
       "      <td>NaN</td>\n",
       "      <td>3.0</td>\n",
       "      <td>1</td>\n",
       "      <td>5.0</td>\n",
       "      <td>4</td>\n",
       "      <td>3</td>\n",
       "      <td>4</td>\n",
       "      <td>1</td>\n",
       "      <td>3</td>\n",
       "      <td>2</td>\n",
       "      <td>...</td>\n",
       "      <td>2.0</td>\n",
       "      <td>4.0</td>\n",
       "      <td>2.0</td>\n",
       "      <td>1.0</td>\n",
       "      <td>2.0</td>\n",
       "      <td>3.0</td>\n",
       "      <td>3.0</td>\n",
       "      <td>4.0</td>\n",
       "      <td>6.0</td>\n",
       "      <td>5.0</td>\n",
       "    </tr>\n",
       "  </tbody>\n",
       "</table>\n",
       "<p>5 rows × 85 columns</p>\n",
       "</div>"
      ],
      "text/plain": [
       "   AGER_TYP  ALTERSKATEGORIE_GROB  ANREDE_KZ  CJT_GESAMTTYP  \\\n",
       "0       NaN                   2.0          1            2.0   \n",
       "1       NaN                   1.0          2            5.0   \n",
       "2       NaN                   3.0          2            3.0   \n",
       "3       2.0                   4.0          2            2.0   \n",
       "4       NaN                   3.0          1            5.0   \n",
       "\n",
       "   FINANZ_MINIMALIST  FINANZ_SPARER  FINANZ_VORSORGER  FINANZ_ANLEGER  \\\n",
       "0                  3              4                 3               5   \n",
       "1                  1              5                 2               5   \n",
       "2                  1              4                 1               2   \n",
       "3                  4              2                 5               2   \n",
       "4                  4              3                 4               1   \n",
       "\n",
       "   FINANZ_UNAUFFAELLIGER  FINANZ_HAUSBAUER    ...     PLZ8_ANTG1  PLZ8_ANTG2  \\\n",
       "0                      5                 3    ...            NaN         NaN   \n",
       "1                      4                 5    ...            2.0         3.0   \n",
       "2                      3                 5    ...            3.0         3.0   \n",
       "3                      1                 2    ...            2.0         2.0   \n",
       "4                      3                 2    ...            2.0         4.0   \n",
       "\n",
       "   PLZ8_ANTG3  PLZ8_ANTG4  PLZ8_BAUMAX  PLZ8_HHZ  PLZ8_GBZ  ARBEIT  \\\n",
       "0         NaN         NaN          NaN       NaN       NaN     NaN   \n",
       "1         2.0         1.0          1.0       5.0       4.0     3.0   \n",
       "2         1.0         0.0          1.0       4.0       4.0     3.0   \n",
       "3         2.0         0.0          1.0       3.0       4.0     2.0   \n",
       "4         2.0         1.0          2.0       3.0       3.0     4.0   \n",
       "\n",
       "   ORTSGR_KLS9  RELAT_AB  \n",
       "0          NaN       NaN  \n",
       "1          5.0       4.0  \n",
       "2          5.0       2.0  \n",
       "3          3.0       3.0  \n",
       "4          6.0       5.0  \n",
       "\n",
       "[5 rows x 85 columns]"
      ]
     },
     "execution_count": 159,
     "metadata": {},
     "output_type": "execute_result"
    }
   ],
   "source": [
    "azdias.head(5)"
   ]
  },
  {
   "cell_type": "markdown",
   "metadata": {},
   "source": [
    "#### Step 1.1.2: Assess Missing Data in Each Column\n",
    "\n",
    "How much missing data is present in each column? There are a few columns that are outliers in terms of the proportion of values that are missing. You will want to use matplotlib's [`hist()`](https://matplotlib.org/api/_as_gen/matplotlib.pyplot.hist.html) function to visualize the distribution of missing value counts to find these columns. Identify and document these columns. While some of these columns might have justifications for keeping or re-encoding the data, for this project you should just remove them from the dataframe. (Feel free to make remarks about these outlier columns in the discussion, however!)\n",
    "\n",
    "For the remaining features, are there any patterns in which columns have, or share, missing data?"
   ]
  },
  {
   "cell_type": "code",
   "execution_count": 160,
   "metadata": {},
   "outputs": [
    {
     "data": {
      "text/plain": [
       "TITEL_KZ          99.76\n",
       "AGER_TYP          76.96\n",
       "KK_KUNDENTYP      65.60\n",
       "KBA05_BAUMAX      53.47\n",
       "GEBURTSJAHR       44.02\n",
       "ALTER_HH          34.81\n",
       "REGIOTYP          17.74\n",
       "KKK               17.74\n",
       "W_KEIT_KIND_HH    16.61\n",
       "KBA05_ANTG4       14.96\n",
       "dtype: float64"
      ]
     },
     "execution_count": 160,
     "metadata": {},
     "output_type": "execute_result"
    }
   ],
   "source": [
    "# Perform an assessment of how much missing data there is in each column of the\n",
    "# dataset.\n",
    "\n",
    "missing_data = azdias.isna().sum()\n",
    "missing_data = round(missing_data[missing_data > 0]/(azdias.shape[0]) * 100, 2)\n",
    "missing_data.sort_values(ascending = False).head(10)"
   ]
  },
  {
   "cell_type": "markdown",
   "metadata": {},
   "source": [
    "- We can clearly see that some columns are entirely or mostly NaN.\n",
    "- **TITEL_KZ** has 99.76% of its values as NaNs!\n",
    "\n",
    "Let's try to plot these to understand better!"
   ]
  },
  {
   "cell_type": "code",
   "execution_count": 161,
   "metadata": {},
   "outputs": [
    {
     "data": {
      "text/plain": [
       "<matplotlib.axes._subplots.AxesSubplot at 0x7fd43c830c88>"
      ]
     },
     "execution_count": 161,
     "metadata": {},
     "output_type": "execute_result"
    },
    {
     "data": {
      "image/png": "[encoded data removed]",
      "text/plain": [
       "<matplotlib.figure.Figure at 0x7fd43c1b11d0>"
      ]
     },
     "metadata": {
      "needs_background": "light"
     },
     "output_type": "display_data"
    }
   ],
   "source": [
    "# Investigate patterns in the amount of missing data in each column.\n",
    "\n",
    "missing_data.sort_values(ascending = False).plot.bar(figsize=(20,5))"
   ]
  },
  {
   "cell_type": "code",
   "execution_count": 162,
   "metadata": {},
   "outputs": [
    {
     "data": {
      "text/plain": [
       "count    61.000000\n",
       "mean     15.403115\n",
       "std      17.628423\n",
       "min       0.320000\n",
       "25%      10.450000\n",
       "50%      11.150000\n",
       "75%      13.070000\n",
       "max      99.760000\n",
       "dtype: float64"
      ]
     },
     "execution_count": 162,
     "metadata": {},
     "output_type": "execute_result"
    }
   ],
   "source": [
    "missing_data.describe()"
   ]
  },
  {
   "cell_type": "code",
   "execution_count": 163,
   "metadata": {},
   "outputs": [
    {
     "data": {
      "text/plain": [
       "(891221, 56)"
      ]
     },
     "execution_count": 163,
     "metadata": {},
     "output_type": "execute_result"
    }
   ],
   "source": [
    "# Remove the outlier columns from the dataset. (You'll perform other data\n",
    "# engineering tasks such as re-encoding and imputation later.)\n",
    "\n",
    "columns_to_keep = list(missing_data[missing_data < 40].index)\n",
    "azdias = azdias[columns_to_keep]\n",
    "azdias.shape"
   ]
  },
  {
   "cell_type": "markdown",
   "metadata": {},
   "source": [
    "#### Discussion 1.1.2: Assess Missing Data in Each Column\n",
    "\n",
    "The dataset is interesting to say the least when it comes to missing values.\n",
    "\n",
    "- If we look at the distribution of missing values, four columns, namely, `TITEL_KZ`, `AGER_TYP`, `KK_KUNDENTYP`. `KBA05_BAUMAX` contain most of the missing values.\n",
    "- In fact, if we look at our distribution of missing values, the median missing values (out of a set of only those columns with missing values) in a column are **11%** while the mean is **15%**. \n",
    "- From our visualisation, it is obvious that anything above **~40%** is an outlier.\n",
    "- So, the decision is to remove these four columns in question.\n",
    "- Some understanding in these variables and as to why they may be missing:\n",
    "    - `TITEL_KZ`: This is the academic title flag. In fact, most of the people may not be Dr. or Prof. so that's why this is not relevant either.\n",
    "    - `AGER_TYP`: This deals with some classification of the elderly people and tells which type of them such as cultural or passive this customer is; however, a lot of the data may not be for elderly people and thus the value to be missing is okay.\n",
    "    - `KK_KUNDENTYP`: Interestingly, customer pattern over the last twelve months is a good metric. In fact, this is an important variable based on its definition. However, it is the variable with the third largest number of unknowns. \n",
    "    - `KBA05_BAUMAX`: This tells the most common building type in the microcell. I'm not sure as to why this might have enough missing values from its description, though."
   ]
  },
  {
   "cell_type": "markdown",
   "metadata": {},
   "source": [
    "#### Step 1.1.3: Assess Missing Data in Each Row\n",
    "\n",
    "Now, you'll perform a similar assessment for the rows of the dataset. How much data is missing in each row? As with the columns, you should see some groups of points that have a very different numbers of missing values. Divide the data into two subsets: one for data points that are above some threshold for missing values, and a second subset for points below that threshold.\n",
    "\n",
    "In order to know what to do with the outlier rows, we should see if the distribution of data values on columns that are not missing data (or are missing very little data) are similar or different between the two groups. Select at least five of these columns and compare the distribution of values.\n",
    "- You can use seaborn's [`countplot()`](https://seaborn.pydata.org/generated/seaborn.countplot.html) function to create a bar chart of code frequencies and matplotlib's [`subplot()`](https://matplotlib.org/api/_as_gen/matplotlib.pyplot.subplot.html) function to put bar charts for the two subplots side by side.\n",
    "- To reduce repeated code, you might want to write a function that can perform this comparison, taking as one of its arguments a column to be compared.\n",
    "\n",
    "Depending on what you observe in your comparison, this will have implications on how you approach your conclusions later in the analysis. If the distributions of non-missing features look similar between the data with many missing values and the data with few or no missing values, then we could argue that simply dropping those points from the analysis won't present a major issue. On the other hand, if the data with many missing values looks very different from the data with few or no missing values, then we should make a note on those data as special. We'll revisit these data later on. **Either way, you should continue your analysis for now using just the subset of the data with few or no missing values.**"
   ]
  },
  {
   "cell_type": "code",
   "execution_count": 164,
   "metadata": {},
   "outputs": [
    {
     "data": {
      "text/plain": [
       "0    44\n",
       "1     1\n",
       "2     0\n",
       "3     7\n",
       "4     0\n",
       "dtype: int64"
      ]
     },
     "execution_count": 164,
     "metadata": {},
     "output_type": "execute_result"
    }
   ],
   "source": [
    "# How much data is missing in each row of the dataset?\n",
    "\n",
    "missing_rows = azdias.isna().sum(axis = 1)\n",
    "missing_rows.head()"
   ]
  },
  {
   "cell_type": "code",
   "execution_count": 165,
   "metadata": {},
   "outputs": [
    {
     "name": "stdout",
     "output_type": "stream",
     "text": [
      "49.16% rows out of 891221 have missing values.\n"
     ]
    }
   ],
   "source": [
    "print(\"{}% rows out of {} have missing values.\".format(round(missing_rows[missing_rows > 0].shape[0] / missing_rows.shape[0] * 100, 2), missing_rows.shape[0]))"
   ]
  },
  {
   "cell_type": "code",
   "execution_count": 166,
   "metadata": {},
   "outputs": [
    {
     "data": {
      "text/plain": [
       "438128"
      ]
     },
     "execution_count": 166,
     "metadata": {},
     "output_type": "execute_result"
    }
   ],
   "source": [
    "rows_with_missing = missing_rows[missing_rows > 0]\n",
    "rows_with_missing.shape[0]"
   ]
  },
  {
   "cell_type": "code",
   "execution_count": 167,
   "metadata": {},
   "outputs": [
    {
     "data": {
      "text/plain": [
       "count    438128.000000\n",
       "mean         12.200934\n",
       "std          17.057873\n",
       "min           1.000000\n",
       "25%           1.000000\n",
       "50%           3.000000\n",
       "75%          12.000000\n",
       "max          49.000000\n",
       "dtype: float64"
      ]
     },
     "execution_count": 167,
     "metadata": {},
     "output_type": "execute_result"
    }
   ],
   "source": [
    "rows_with_missing.describe()"
   ]
  },
  {
   "cell_type": "code",
   "execution_count": 168,
   "metadata": {},
   "outputs": [
    {
     "data": {
      "text/plain": [
       "1    40.39\n",
       "2     6.99\n",
       "3     4.13\n",
       "4     3.77\n",
       "5     3.97\n",
       "Name: Ratio, dtype: float64"
      ]
     },
     "execution_count": 168,
     "metadata": {},
     "output_type": "execute_result"
    }
   ],
   "source": [
    "missing_summary = pd.DataFrame(rows_with_missing, columns=['Missing']).groupby('Missing').agg('size').reset_index(name='Count')\n",
    "missing_summary['Ratio'] = round(missing_summary.Count / missing_summary.Count.sum() * 100, 2)\n",
    "missing_summary = missing_summary.Ratio\n",
    "missing_summary.index = missing_summary.index + 1\n",
    "missing_summary.head()"
   ]
  },
  {
   "cell_type": "code",
   "execution_count": 169,
   "metadata": {},
   "outputs": [
    {
     "data": {
      "text/plain": [
       "<matplotlib.axes._subplots.AxesSubplot at 0x7fd42f43d550>"
      ]
     },
     "execution_count": 169,
     "metadata": {},
     "output_type": "execute_result"
    },
    {
     "data": {
      "image/png": "[encoded data removed]",
      "text/plain": [
       "<matplotlib.figure.Figure at 0x7fd42f4333c8>"
      ]
     },
     "metadata": {
      "needs_background": "light"
     },
     "output_type": "display_data"
    }
   ],
   "source": [
    "missing_summary.plot.bar(figsize=(20,5))"
   ]
  },
  {
   "cell_type": "code",
   "execution_count": 170,
   "metadata": {},
   "outputs": [
    {
     "name": "stdout",
     "output_type": "stream",
     "text": [
      "The ratio of rows (out of those rows which have missing values) with missing values between 0-10 is 74.2%, which is nearly 75% of the rows. Therefore, 10 seems like a good cutoff to make the subsets.\n"
     ]
    }
   ],
   "source": [
    "print('The ratio of rows (out of those rows which have missing values) with missing values between 0-10 is {}%, which is nearly 75% of the rows. Therefore, 10 seems like a good cutoff to make the subsets.'.format(np.around(missing_summary.iloc[0:10].sum(),1)))"
   ]
  },
  {
   "cell_type": "code",
   "execution_count": 171,
   "metadata": {},
   "outputs": [],
   "source": [
    "# Write code to divide the data into two subsets based on the number of missing\n",
    "# values in each row.\n",
    "\n",
    "more_missing = azdias[azdias.isna().sum(axis=1) > 10]\n",
    "few_missing = azdias[azdias.isna().sum(axis=1) <= 10]"
   ]
  },
  {
   "cell_type": "code",
   "execution_count": 172,
   "metadata": {},
   "outputs": [
    {
     "name": "stdout",
     "output_type": "stream",
     "text": [
      "778345 rows have fewer or no missing values i.e. less than equal to 10, \n",
      "112876 rows have more values missing, out of a total of 891221.\n"
     ]
    }
   ],
   "source": [
    "print('{} rows have fewer or no missing values i.e. less than equal to 10, \\n{} rows have more values missing, out of a total of {}.'.format(few_missing.shape[0], more_missing.shape[0], missing_rows.shape[0]))"
   ]
  },
  {
   "cell_type": "code",
   "execution_count": 39,
   "metadata": {},
   "outputs": [],
   "source": [
    "# Compare the distribution of values for at least five columns where there are\n",
    "# no or few missing values, between the two subsets.\n",
    "\n",
    "sample_few_missing = few_missing[few_missing.columns.to_series().sample(5)]\n",
    "sample_more_missing = more_missing[sample_few_missing.columns]"
   ]
  },
  {
   "cell_type": "code",
   "execution_count": 80,
   "metadata": {},
   "outputs": [],
   "source": [
    "def plot(dataframe1, dataframe2, column_name):\n",
    "    fig = plt.figure(figsize=(20, 5))\n",
    "    ax1 = fig.add_subplot(1,2,1)\n",
    "    ax1.title.set_text('Few Missing')\n",
    "    sns.countplot(data=dataframe1, x=column_name)\n",
    "\n",
    "    ax2 = fig.add_subplot(1,2,2)\n",
    "    ax2.title.set_text('More Missing')\n",
    "    sns.countplot(data=dataframe2, x=column_name)\n",
    "    \n",
    "    ks_stat = ks_2samp(sample_few_missing[column], sample_more_missing[column])\n",
    "    if ks_stat.pvalue < 0.05:\n",
    "        inference = 'Distributions seem to be different.'\n",
    "    else:\n",
    "        inference = 'Distributions seem to be the same.'\n",
    "    message = '\\nKS Statistic for \\'{}\\':\\nP-Value: {} | Statistic: {}\\n\\\"{}\\\"'.format(column, ks_stat.pvalue, round(ks_stat.statistic,3), inference)\n",
    "    fig.suptitle(message, y=1.2)\n",
    "    plt.show()"
   ]
  },
  {
   "cell_type": "code",
   "execution_count": 81,
   "metadata": {
    "scrolled": false
   },
   "outputs": [
    {
     "data": {
      "image/png": "[encoded data removed]",
      "text/plain": [
       "<matplotlib.figure.Figure at 0x7fd43c281518>"
      ]
     },
     "metadata": {
      "needs_background": "light"
     },
     "output_type": "display_data"
    },
    {
     "data": {
      "image/png": "[encoded data removed]",
      "text/plain": [
       "<matplotlib.figure.Figure at 0x7fd43de85ef0>"
      ]
     },
     "metadata": {
      "needs_background": "light"
     },
     "output_type": "display_data"
    },
    {
     "data": {
      "image/png": "[encoded data removed]",
      "text/plain": [
       "<matplotlib.figure.Figure at 0x7fd43c3c7a90>"
      ]
     },
     "metadata": {
      "needs_background": "light"
     },
     "output_type": "display_data"
    },
    {
     "data": {
      "image/png": "[encoded data removed]",
      "text/plain": [
       "<matplotlib.figure.Figure at 0x7fd43cad8c88>"
      ]
     },
     "metadata": {
      "needs_background": "light"
     },
     "output_type": "display_data"
    },
    {
     "data": {
      "image/png": "[encoded data removed]",
      "text/plain": [
       "<matplotlib.figure.Figure at 0x7fd43c7cdb00>"
      ]
     },
     "metadata": {
      "needs_background": "light"
     },
     "output_type": "display_data"
    }
   ],
   "source": [
    "for column in sample_few_missing.columns:\n",
    "    plot(sample_few_missing, sample_more_missing, column)"
   ]
  },
  {
   "cell_type": "markdown",
   "metadata": {},
   "source": [
    "#### Discussion 1.1.3: Assess Missing Data in Each Row\n",
    "\n",
    "- Looking at it statistically, all the five sample columns we've chosen are different for those with fewer rows with missing values versus those with more rows with missing values.\n",
    "- However, if we look at it visually, we can still say that `SOHO_KZ` and `LP_FAMILIE_GROB` are awfully similar when you take a look at them.\n",
    "- It is important to note that the y-axis for both of the `Few Missing` and `More Missing` samples are different.\n",
    "- Since only 12% of the data is under more missing, we can ideally remove the `More Missing` subset entirely, and impute the missing values in the `Few Missing` subset."
   ]
  },
  {
   "cell_type": "code",
   "execution_count": 173,
   "metadata": {},
   "outputs": [],
   "source": [
    "total_missing_count = azdias.isna().sum().sum()\n",
    "few_missing_count = few_missing.isna().sum().sum()\n",
    "more_missing_count = more_missing.isna().sum().sum()"
   ]
  },
  {
   "cell_type": "code",
   "execution_count": 174,
   "metadata": {},
   "outputs": [
    {
     "name": "stdout",
     "output_type": "stream",
     "text": [
      "82.2% of the total missing values come from the subset where more values are missing per row whereas 17.8% of the total missing values come from the subset where the rows have fewer (0-10) missing values.\n"
     ]
    }
   ],
   "source": [
    "print('{}% of the total missing values come from the subset where more values are missing per row whereas {}% of the total missing values come from the subset where the rows have fewer (0-10) missing values.'.format(round(more_missing_count/total_missing_count*100,1), round(few_missing_count/total_missing_count*100,1)))"
   ]
  },
  {
   "cell_type": "markdown",
   "metadata": {},
   "source": [
    "So, we can conclude that **12%** of the data contains **82%** of the missing values. In other words, removing this **12%** is in our best interest. "
   ]
  },
  {
   "cell_type": "code",
   "execution_count": 175,
   "metadata": {},
   "outputs": [],
   "source": [
    "azdias = azdias[azdias.isna().sum(axis=1) <= 10]"
   ]
  },
  {
   "cell_type": "markdown",
   "metadata": {},
   "source": [
    "### Step 1.2: Select and Re-Encode Features\n",
    "\n",
    "Checking for missing data isn't the only way in which you can prepare a dataset for analysis. Since the unsupervised learning techniques to be used will only work on data that is encoded numerically, you need to make a few encoding changes or additional assumptions to be able to make progress. In addition, while almost all of the values in the dataset are encoded using numbers, not all of them represent numeric values. Check the third column of the feature summary (`feat_info`) for a summary of types of measurement.\n",
    "- For numeric and interval data, these features can be kept without changes.\n",
    "- Most of the variables in the dataset are ordinal in nature. While ordinal values may technically be non-linear in spacing, make the simplifying assumption that the ordinal variables can be treated as being interval in nature (that is, kept without any changes).\n",
    "- Special handling may be necessary for the remaining two variable types: categorical, and 'mixed'.\n",
    "\n",
    "In the first two parts of this sub-step, you will perform an investigation of the categorical and mixed-type features and make a decision on each of them, whether you will keep, drop, or re-encode each. Then, in the last part, you will create a new data frame with only the selected and engineered columns.\n",
    "\n",
    "Data wrangling is often the trickiest part of the data analysis process, and there's a lot of it to be done here. But stick with it: once you're done with this step, you'll be ready to get to the machine learning parts of the project!"
   ]
  },
  {
   "cell_type": "code",
   "execution_count": 176,
   "metadata": {},
   "outputs": [
    {
     "data": {
      "text/plain": [
       "ordinal        49\n",
       "categorical    21\n",
       "mixed           7\n",
       "numeric         7\n",
       "interval        1\n",
       "Name: type, dtype: int64"
      ]
     },
     "execution_count": 176,
     "metadata": {},
     "output_type": "execute_result"
    }
   ],
   "source": [
    "# How many features are there of each data type?\n",
    "\n",
    "feat_info['type'].value_counts()"
   ]
  },
  {
   "cell_type": "markdown",
   "metadata": {},
   "source": [
    "#### Step 1.2.1: Re-Encode Categorical Features\n",
    "\n",
    "For categorical data, you would ordinarily need to encode the levels as dummy variables. Depending on the number of categories, perform one of the following:\n",
    "- For binary (two-level) categoricals that take numeric values, you can keep them without needing to do anything.\n",
    "- There is one binary variable that takes on non-numeric values. For this one, you need to re-encode the values as numbers or create a dummy variable.\n",
    "- For multi-level categoricals (three or more values), you can choose to encode the values using multiple dummy variables (e.g. via [OneHotEncoder](http://scikit-learn.org/stable/modules/generated/sklearn.preprocessing.OneHotEncoder.html)), or (to keep things straightforward) just drop them from the analysis. As always, document your choices in the Discussion section."
   ]
  },
  {
   "cell_type": "code",
   "execution_count": 177,
   "metadata": {},
   "outputs": [
    {
     "name": "stdout",
     "output_type": "stream",
     "text": [
      "SOHO_KZ: [1.0, 0.0]\n",
      "VERS_TYP: [2.0, 1.0, nan]\n",
      "OST_WEST_KZ: ['W', 'O']\n"
     ]
    }
   ],
   "source": [
    "# Assess categorical variables: which are binary, which are multi-level, and\n",
    "# which one needs to be re-encoded?\n",
    "\n",
    "categorical = list(feat_info[feat_info.type == 'categorical']['attribute'])\n",
    "categorical = [column for column in categorical if column in list(azdias.columns)]\n",
    "\n",
    "binary = [column for column in categorical if azdias[column].nunique(dropna=True) == 2]\n",
    "multilevel = [column for column in categorical if column not in binary]\n",
    "\n",
    "for column in binary:\n",
    "    print('{}: {}'.format(column, list(azdias[column].drop_duplicates())))"
   ]
  },
  {
   "cell_type": "code",
   "execution_count": 178,
   "metadata": {},
   "outputs": [],
   "source": [
    "# Re-encode categorical variable(s) to be kept in the analysis.\n",
    "\n",
    "azdias['OST_WEST_KZ'].replace(['W', 'O'], [1, 0], inplace=True)\n",
    "azdias = pd.get_dummies(azdias, columns=multilevel)"
   ]
  },
  {
   "cell_type": "code",
   "execution_count": 179,
   "metadata": {},
   "outputs": [
    {
     "data": {
      "text/plain": [
       "809978"
      ]
     },
     "execution_count": 179,
     "metadata": {},
     "output_type": "execute_result"
    }
   ],
   "source": [
    "azdias.isna().sum().sum()"
   ]
  },
  {
   "cell_type": "markdown",
   "metadata": {},
   "source": [
    "#### Discussion 1.2.1: Re-Encode Categorical Features\n",
    "\n",
    "- After analysing `feat_info`, we learned that there were 3 binary columns still in `azdias` out of which two were numeric so we didn't do anything to them.\n",
    "- To the one column `OST_WEST_KZ`, we applied a `replace` function to replace `W` to `1` and `O` to `0`.\n",
    "- Subsequently, we one-hot encoded the multilevel variables using `pandas.get_dummies()`.\n",
    "- There are still 8,09,978 missing values in the dataset though."
   ]
  },
  {
   "cell_type": "markdown",
   "metadata": {},
   "source": [
    "#### Step 1.2.2: Engineer Mixed-Type Features\n",
    "\n",
    "There are a handful of features that are marked as \"mixed\" in the feature summary that require special treatment in order to be included in the analysis. There are two in particular that deserve attention; the handling of the rest are up to your own choices:\n",
    "- \"PRAEGENDE_JUGENDJAHRE\" combines information on three dimensions: generation by decade, movement (mainstream vs. avantgarde), and nation (east vs. west). While there aren't enough levels to disentangle east from west, you should create two new variables to capture the other two dimensions: an interval-type variable for decade, and a binary variable for movement.\n",
    "- \"CAMEO_INTL_2015\" combines information on two axes: wealth and life stage. Break up the two-digit codes by their 'tens'-place and 'ones'-place digits into two new ordinal variables (which, for the purposes of this project, is equivalent to just treating them as their raw numeric values).\n",
    "- If you decide to keep or engineer new features around the other mixed-type features, make sure you note your steps in the Discussion section.\n",
    "\n",
    "Be sure to check `Data_Dictionary.md` for the details needed to finish these tasks."
   ]
  },
  {
   "cell_type": "code",
   "execution_count": 180,
   "metadata": {},
   "outputs": [],
   "source": [
    "# Investigate \"PRAEGENDE_JUGENDJAHRE\" and engineer two new variables.\n",
    "\n",
    "def get_decade(x):\n",
    "    if np.isnan(x):\n",
    "        return(np.nan)\n",
    "    elif x in [1,2]:\n",
    "        return(40)\n",
    "    elif x in [3,4]:\n",
    "        return(50)\n",
    "    elif x in [5,6,7]:\n",
    "        return(60)\n",
    "    elif x in [8,9]:\n",
    "        return(70)\n",
    "    elif x in [10,11,12,13]:\n",
    "        return(80)\n",
    "    elif x in [14,15]:\n",
    "        return(90)\n",
    "    \n",
    "def get_movement(x):\n",
    "    if np.isnan(x):\n",
    "        return(np.nan)\n",
    "    elif x in [1,3,5,8,10,12,14]:\n",
    "        return(0)\n",
    "    else:\n",
    "        return(1)\n",
    "    \n",
    "azdias['PRAEGENDE_JUGENDJAHRE_DECADE'] = azdias['PRAEGENDE_JUGENDJAHRE'].apply(get_decade)\n",
    "azdias['PRAEGENDE_JUGENDJAHRE_MOVEMENT'] = azdias['PRAEGENDE_JUGENDJAHRE'].apply(get_movement)\n",
    "azdias.drop('PRAEGENDE_JUGENDJAHRE', axis=1, inplace=True)"
   ]
  },
  {
   "cell_type": "code",
   "execution_count": 224,
   "metadata": {},
   "outputs": [],
   "source": [
    "# Investigate \"CAMEO_INTL_2015\" and engineer two new variables.\n",
    "\n",
    "def get_split_data(x):\n",
    "    if pd.isnull(x):\n",
    "        return(np.nan, np.nan)\n",
    "    else:\n",
    "        num = str(x)\n",
    "        return([int(num[0]), int(num[1])])\n",
    "\n",
    "azdias['CAMEO_INTL_2015_WEALTH'], azdias['CAMEO_INTL_2015_LIFESTAGE'] = zip(*azdias['CAMEO_INTL_2015'].map(get_split_data))"
   ]
  },
  {
   "cell_type": "code",
   "execution_count": 226,
   "metadata": {},
   "outputs": [],
   "source": [
    "azdias.drop('CAMEO_INTL_2015', axis=1, inplace=True)"
   ]
  },
  {
   "cell_type": "code",
   "execution_count": 227,
   "metadata": {},
   "outputs": [],
   "source": [
    "# Getting Mixed Columns\n",
    "\n",
    "mixed = list(feat_info[feat_info.type == 'mixed']['attribute'])\n",
    "mixed = [column for column in mixed if column in list(azdias.columns)]"
   ]
  },
  {
   "cell_type": "code",
   "execution_count": 228,
   "metadata": {},
   "outputs": [
    {
     "data": {
      "text/plain": [
       "['LP_LEBENSPHASE_FEIN', 'LP_LEBENSPHASE_GROB', 'WOHNLAGE', 'PLZ8_BAUMAX']"
      ]
     },
     "execution_count": 228,
     "metadata": {},
     "output_type": "execute_result"
    }
   ],
   "source": [
    "mixed"
   ]
  },
  {
   "cell_type": "markdown",
   "metadata": {},
   "source": [
    "#### Discussion 1.2.2: Engineer Mixed-Type Features\n",
    "\n",
    "- The two given mixed features namely `CAMEO_INTL_2015` and `PRAEGENDE_JUGENDJAHRE` have been converted and split as required.\n",
    "- Out of the leftover mixed features, four are still present in our dataset.\n",
    "- Out of these four, `WOHNLAGE` and `PLZ8_BAUMAX` look more like categorical variables.\n",
    "- `LP_LEBENSPHASE_FEIN` and `LP_LEBENSPHASE_GROB` are kept for simplicity of the data.\n",
    "- Therefore, we are going to keep these four as it is."
   ]
  },
  {
   "cell_type": "markdown",
   "metadata": {},
   "source": [
    "#### Step 1.2.3: Complete Feature Selection\n",
    "\n",
    "In order to finish this step up, you need to make sure that your data frame now only has the columns that you want to keep. To summarize, the dataframe should consist of the following:\n",
    "- All numeric, interval, and ordinal type columns from the original dataset.\n",
    "- Binary categorical features (all numerically-encoded).\n",
    "- Engineered features from other multi-level categorical features and mixed features.\n",
    "\n",
    "Make sure that for any new columns that you have engineered, that you've excluded the original columns from the final dataset. Otherwise, their values will interfere with the analysis later on the project. For example, you should not keep \"PRAEGENDE_JUGENDJAHRE\", since its values won't be useful for the algorithm: only the values derived from it in the engineered features you created should be retained. As a reminder, your data should only be from **the subset with few or no missing values**."
   ]
  },
  {
   "cell_type": "code",
   "execution_count": 279,
   "metadata": {},
   "outputs": [
    {
     "data": {
      "image/png": "[encoded data removed]",
      "text/plain": [
       "<matplotlib.figure.Figure at 0x7fd3d3040320>"
      ]
     },
     "metadata": {
      "needs_background": "light"
     },
     "output_type": "display_data"
    }
   ],
   "source": [
    "# If there are other re-engineering tasks you need to perform, make sure you\n",
    "# take care of them here. (Dealing with missing data will come in step 2.1.)\n",
    "\n",
    "# Correlation\n",
    "\n",
    "def find_correlation(dataframe, threshold):\n",
    "    corr = dataframe.corr().abs()\n",
    "    corr = corr[corr > threshold]\n",
    "    corr = corr[corr!=1].dropna(how='all')\n",
    "    return(corr)\n",
    "    \n",
    "corr = find_correlation(azdias, 0.80)\n",
    "\n",
    "def plot_correlation(corr):\n",
    "    mask = np.zeros_like(corr, dtype=np.bool)\n",
    "    mask[np.triu_indices_from(mask)] = True\n",
    "    f, ax = plt.subplots(figsize=(30, 25))\n",
    "    cmap = sns.diverging_palette(220, 10, as_cmap=True)\n",
    "    sns.heatmap(corr, mask=mask, cmap=cmap, vmax=.3, center=0,\n",
    "                square=True, linewidths=.5, cbar_kws={\"shrink\": .5})\n",
    "\n",
    "plot_correlation(corr)"
   ]
  },
  {
   "cell_type": "code",
   "execution_count": 306,
   "metadata": {},
   "outputs": [
    {
     "data": {
      "text/html": [
       "<div>\n",
       "<style scoped>\n",
       "    .dataframe tbody tr th:only-of-type {\n",
       "        vertical-align: middle;\n",
       "    }\n",
       "\n",
       "    .dataframe tbody tr th {\n",
       "        vertical-align: top;\n",
       "    }\n",
       "\n",
       "    .dataframe thead th {\n",
       "        text-align: right;\n",
       "    }\n",
       "</style>\n",
       "<table border=\"1\" class=\"dataframe\">\n",
       "  <thead>\n",
       "    <tr style=\"text-align: right;\">\n",
       "      <th></th>\n",
       "      <th>ALTERSKATEGORIE_GROB</th>\n",
       "      <th>HEALTH_TYP</th>\n",
       "      <th>LP_LEBENSPHASE_FEIN</th>\n",
       "      <th>LP_LEBENSPHASE_GROB</th>\n",
       "      <th>RETOURTYP_BK_S</th>\n",
       "      <th>SOHO_KZ</th>\n",
       "      <th>VERS_TYP</th>\n",
       "      <th>ALTER_HH</th>\n",
       "      <th>ANZ_PERSONEN</th>\n",
       "      <th>ANZ_TITEL</th>\n",
       "      <th>...</th>\n",
       "      <th>CAMEO_DEU_2015_8D</th>\n",
       "      <th>CAMEO_DEU_2015_9A</th>\n",
       "      <th>CAMEO_DEU_2015_9B</th>\n",
       "      <th>CAMEO_DEU_2015_9C</th>\n",
       "      <th>CAMEO_DEU_2015_9D</th>\n",
       "      <th>CAMEO_DEU_2015_9E</th>\n",
       "      <th>PRAEGENDE_JUGENDJAHRE_DECADE</th>\n",
       "      <th>PRAEGENDE_JUGENDJAHRE_MOVEMENT</th>\n",
       "      <th>CAMEO_INTL_2015_WEALTH</th>\n",
       "      <th>CAMEO_INTL_2015_LIFESTAGE</th>\n",
       "    </tr>\n",
       "  </thead>\n",
       "  <tbody>\n",
       "    <tr>\n",
       "      <th>LP_LEBENSPHASE_FEIN</th>\n",
       "      <td>NaN</td>\n",
       "      <td>NaN</td>\n",
       "      <td>NaN</td>\n",
       "      <td>0.990156</td>\n",
       "      <td>NaN</td>\n",
       "      <td>NaN</td>\n",
       "      <td>NaN</td>\n",
       "      <td>NaN</td>\n",
       "      <td>NaN</td>\n",
       "      <td>NaN</td>\n",
       "      <td>...</td>\n",
       "      <td>NaN</td>\n",
       "      <td>NaN</td>\n",
       "      <td>NaN</td>\n",
       "      <td>NaN</td>\n",
       "      <td>NaN</td>\n",
       "      <td>NaN</td>\n",
       "      <td>NaN</td>\n",
       "      <td>NaN</td>\n",
       "      <td>NaN</td>\n",
       "      <td>NaN</td>\n",
       "    </tr>\n",
       "    <tr>\n",
       "      <th>LP_LEBENSPHASE_GROB</th>\n",
       "      <td>NaN</td>\n",
       "      <td>NaN</td>\n",
       "      <td>0.990156</td>\n",
       "      <td>NaN</td>\n",
       "      <td>NaN</td>\n",
       "      <td>NaN</td>\n",
       "      <td>NaN</td>\n",
       "      <td>NaN</td>\n",
       "      <td>NaN</td>\n",
       "      <td>NaN</td>\n",
       "      <td>...</td>\n",
       "      <td>NaN</td>\n",
       "      <td>NaN</td>\n",
       "      <td>NaN</td>\n",
       "      <td>NaN</td>\n",
       "      <td>NaN</td>\n",
       "      <td>NaN</td>\n",
       "      <td>NaN</td>\n",
       "      <td>NaN</td>\n",
       "      <td>NaN</td>\n",
       "      <td>NaN</td>\n",
       "    </tr>\n",
       "    <tr>\n",
       "      <th>KBA05_ANTG1</th>\n",
       "      <td>NaN</td>\n",
       "      <td>NaN</td>\n",
       "      <td>NaN</td>\n",
       "      <td>NaN</td>\n",
       "      <td>NaN</td>\n",
       "      <td>NaN</td>\n",
       "      <td>NaN</td>\n",
       "      <td>NaN</td>\n",
       "      <td>NaN</td>\n",
       "      <td>NaN</td>\n",
       "      <td>...</td>\n",
       "      <td>NaN</td>\n",
       "      <td>NaN</td>\n",
       "      <td>NaN</td>\n",
       "      <td>NaN</td>\n",
       "      <td>NaN</td>\n",
       "      <td>NaN</td>\n",
       "      <td>NaN</td>\n",
       "      <td>NaN</td>\n",
       "      <td>NaN</td>\n",
       "      <td>NaN</td>\n",
       "    </tr>\n",
       "    <tr>\n",
       "      <th>KBA05_GBZ</th>\n",
       "      <td>NaN</td>\n",
       "      <td>NaN</td>\n",
       "      <td>NaN</td>\n",
       "      <td>NaN</td>\n",
       "      <td>NaN</td>\n",
       "      <td>NaN</td>\n",
       "      <td>NaN</td>\n",
       "      <td>NaN</td>\n",
       "      <td>NaN</td>\n",
       "      <td>NaN</td>\n",
       "      <td>...</td>\n",
       "      <td>NaN</td>\n",
       "      <td>NaN</td>\n",
       "      <td>NaN</td>\n",
       "      <td>NaN</td>\n",
       "      <td>NaN</td>\n",
       "      <td>NaN</td>\n",
       "      <td>NaN</td>\n",
       "      <td>NaN</td>\n",
       "      <td>NaN</td>\n",
       "      <td>NaN</td>\n",
       "    </tr>\n",
       "    <tr>\n",
       "      <th>EWDICHTE</th>\n",
       "      <td>NaN</td>\n",
       "      <td>NaN</td>\n",
       "      <td>NaN</td>\n",
       "      <td>NaN</td>\n",
       "      <td>NaN</td>\n",
       "      <td>NaN</td>\n",
       "      <td>NaN</td>\n",
       "      <td>NaN</td>\n",
       "      <td>NaN</td>\n",
       "      <td>NaN</td>\n",
       "      <td>...</td>\n",
       "      <td>NaN</td>\n",
       "      <td>NaN</td>\n",
       "      <td>NaN</td>\n",
       "      <td>NaN</td>\n",
       "      <td>NaN</td>\n",
       "      <td>NaN</td>\n",
       "      <td>NaN</td>\n",
       "      <td>NaN</td>\n",
       "      <td>NaN</td>\n",
       "      <td>NaN</td>\n",
       "    </tr>\n",
       "    <tr>\n",
       "      <th>MOBI_REGIO</th>\n",
       "      <td>NaN</td>\n",
       "      <td>NaN</td>\n",
       "      <td>NaN</td>\n",
       "      <td>NaN</td>\n",
       "      <td>NaN</td>\n",
       "      <td>NaN</td>\n",
       "      <td>NaN</td>\n",
       "      <td>NaN</td>\n",
       "      <td>NaN</td>\n",
       "      <td>NaN</td>\n",
       "      <td>...</td>\n",
       "      <td>NaN</td>\n",
       "      <td>NaN</td>\n",
       "      <td>NaN</td>\n",
       "      <td>NaN</td>\n",
       "      <td>NaN</td>\n",
       "      <td>NaN</td>\n",
       "      <td>NaN</td>\n",
       "      <td>NaN</td>\n",
       "      <td>NaN</td>\n",
       "      <td>NaN</td>\n",
       "    </tr>\n",
       "    <tr>\n",
       "      <th>ORTSGR_KLS9</th>\n",
       "      <td>NaN</td>\n",
       "      <td>NaN</td>\n",
       "      <td>NaN</td>\n",
       "      <td>NaN</td>\n",
       "      <td>NaN</td>\n",
       "      <td>NaN</td>\n",
       "      <td>NaN</td>\n",
       "      <td>NaN</td>\n",
       "      <td>NaN</td>\n",
       "      <td>NaN</td>\n",
       "      <td>...</td>\n",
       "      <td>NaN</td>\n",
       "      <td>NaN</td>\n",
       "      <td>NaN</td>\n",
       "      <td>NaN</td>\n",
       "      <td>NaN</td>\n",
       "      <td>NaN</td>\n",
       "      <td>NaN</td>\n",
       "      <td>NaN</td>\n",
       "      <td>NaN</td>\n",
       "      <td>NaN</td>\n",
       "    </tr>\n",
       "    <tr>\n",
       "      <th>LP_FAMILIE_FEIN_1.0</th>\n",
       "      <td>NaN</td>\n",
       "      <td>NaN</td>\n",
       "      <td>0.865869</td>\n",
       "      <td>0.835459</td>\n",
       "      <td>NaN</td>\n",
       "      <td>NaN</td>\n",
       "      <td>NaN</td>\n",
       "      <td>NaN</td>\n",
       "      <td>NaN</td>\n",
       "      <td>NaN</td>\n",
       "      <td>...</td>\n",
       "      <td>NaN</td>\n",
       "      <td>NaN</td>\n",
       "      <td>NaN</td>\n",
       "      <td>NaN</td>\n",
       "      <td>NaN</td>\n",
       "      <td>NaN</td>\n",
       "      <td>NaN</td>\n",
       "      <td>NaN</td>\n",
       "      <td>NaN</td>\n",
       "      <td>NaN</td>\n",
       "    </tr>\n",
       "    <tr>\n",
       "      <th>LP_FAMILIE_GROB_1.0</th>\n",
       "      <td>NaN</td>\n",
       "      <td>NaN</td>\n",
       "      <td>0.865869</td>\n",
       "      <td>0.835459</td>\n",
       "      <td>NaN</td>\n",
       "      <td>NaN</td>\n",
       "      <td>NaN</td>\n",
       "      <td>NaN</td>\n",
       "      <td>NaN</td>\n",
       "      <td>NaN</td>\n",
       "      <td>...</td>\n",
       "      <td>NaN</td>\n",
       "      <td>NaN</td>\n",
       "      <td>NaN</td>\n",
       "      <td>NaN</td>\n",
       "      <td>NaN</td>\n",
       "      <td>NaN</td>\n",
       "      <td>NaN</td>\n",
       "      <td>NaN</td>\n",
       "      <td>NaN</td>\n",
       "      <td>NaN</td>\n",
       "    </tr>\n",
       "    <tr>\n",
       "      <th>LP_FAMILIE_GROB_5.0</th>\n",
       "      <td>NaN</td>\n",
       "      <td>NaN</td>\n",
       "      <td>0.827398</td>\n",
       "      <td>0.875868</td>\n",
       "      <td>NaN</td>\n",
       "      <td>NaN</td>\n",
       "      <td>NaN</td>\n",
       "      <td>NaN</td>\n",
       "      <td>NaN</td>\n",
       "      <td>NaN</td>\n",
       "      <td>...</td>\n",
       "      <td>NaN</td>\n",
       "      <td>NaN</td>\n",
       "      <td>NaN</td>\n",
       "      <td>NaN</td>\n",
       "      <td>NaN</td>\n",
       "      <td>NaN</td>\n",
       "      <td>NaN</td>\n",
       "      <td>NaN</td>\n",
       "      <td>NaN</td>\n",
       "      <td>NaN</td>\n",
       "    </tr>\n",
       "    <tr>\n",
       "      <th>LP_STATUS_FEIN_6.0</th>\n",
       "      <td>NaN</td>\n",
       "      <td>NaN</td>\n",
       "      <td>NaN</td>\n",
       "      <td>NaN</td>\n",
       "      <td>NaN</td>\n",
       "      <td>NaN</td>\n",
       "      <td>NaN</td>\n",
       "      <td>NaN</td>\n",
       "      <td>NaN</td>\n",
       "      <td>NaN</td>\n",
       "      <td>...</td>\n",
       "      <td>NaN</td>\n",
       "      <td>NaN</td>\n",
       "      <td>NaN</td>\n",
       "      <td>NaN</td>\n",
       "      <td>NaN</td>\n",
       "      <td>NaN</td>\n",
       "      <td>NaN</td>\n",
       "      <td>NaN</td>\n",
       "      <td>NaN</td>\n",
       "      <td>NaN</td>\n",
       "    </tr>\n",
       "    <tr>\n",
       "      <th>LP_STATUS_FEIN_9.0</th>\n",
       "      <td>NaN</td>\n",
       "      <td>NaN</td>\n",
       "      <td>NaN</td>\n",
       "      <td>NaN</td>\n",
       "      <td>NaN</td>\n",
       "      <td>NaN</td>\n",
       "      <td>NaN</td>\n",
       "      <td>NaN</td>\n",
       "      <td>NaN</td>\n",
       "      <td>NaN</td>\n",
       "      <td>...</td>\n",
       "      <td>NaN</td>\n",
       "      <td>NaN</td>\n",
       "      <td>NaN</td>\n",
       "      <td>NaN</td>\n",
       "      <td>NaN</td>\n",
       "      <td>NaN</td>\n",
       "      <td>NaN</td>\n",
       "      <td>NaN</td>\n",
       "      <td>NaN</td>\n",
       "      <td>NaN</td>\n",
       "    </tr>\n",
       "    <tr>\n",
       "      <th>LP_STATUS_GROB_3.0</th>\n",
       "      <td>NaN</td>\n",
       "      <td>NaN</td>\n",
       "      <td>NaN</td>\n",
       "      <td>NaN</td>\n",
       "      <td>NaN</td>\n",
       "      <td>NaN</td>\n",
       "      <td>NaN</td>\n",
       "      <td>NaN</td>\n",
       "      <td>NaN</td>\n",
       "      <td>NaN</td>\n",
       "      <td>...</td>\n",
       "      <td>NaN</td>\n",
       "      <td>NaN</td>\n",
       "      <td>NaN</td>\n",
       "      <td>NaN</td>\n",
       "      <td>NaN</td>\n",
       "      <td>NaN</td>\n",
       "      <td>NaN</td>\n",
       "      <td>NaN</td>\n",
       "      <td>NaN</td>\n",
       "      <td>NaN</td>\n",
       "    </tr>\n",
       "    <tr>\n",
       "      <th>LP_STATUS_GROB_4.0</th>\n",
       "      <td>NaN</td>\n",
       "      <td>NaN</td>\n",
       "      <td>NaN</td>\n",
       "      <td>NaN</td>\n",
       "      <td>NaN</td>\n",
       "      <td>NaN</td>\n",
       "      <td>NaN</td>\n",
       "      <td>NaN</td>\n",
       "      <td>NaN</td>\n",
       "      <td>NaN</td>\n",
       "      <td>...</td>\n",
       "      <td>NaN</td>\n",
       "      <td>NaN</td>\n",
       "      <td>NaN</td>\n",
       "      <td>NaN</td>\n",
       "      <td>NaN</td>\n",
       "      <td>NaN</td>\n",
       "      <td>NaN</td>\n",
       "      <td>NaN</td>\n",
       "      <td>NaN</td>\n",
       "      <td>NaN</td>\n",
       "    </tr>\n",
       "  </tbody>\n",
       "</table>\n",
       "<p>14 rows × 163 columns</p>\n",
       "</div>"
      ],
      "text/plain": [
       "                     ALTERSKATEGORIE_GROB  HEALTH_TYP  LP_LEBENSPHASE_FEIN  \\\n",
       "LP_LEBENSPHASE_FEIN                   NaN         NaN                  NaN   \n",
       "LP_LEBENSPHASE_GROB                   NaN         NaN             0.990156   \n",
       "KBA05_ANTG1                           NaN         NaN                  NaN   \n",
       "KBA05_GBZ                             NaN         NaN                  NaN   \n",
       "EWDICHTE                              NaN         NaN                  NaN   \n",
       "MOBI_REGIO                            NaN         NaN                  NaN   \n",
       "ORTSGR_KLS9                           NaN         NaN                  NaN   \n",
       "LP_FAMILIE_FEIN_1.0                   NaN         NaN             0.865869   \n",
       "LP_FAMILIE_GROB_1.0                   NaN         NaN             0.865869   \n",
       "LP_FAMILIE_GROB_5.0                   NaN         NaN             0.827398   \n",
       "LP_STATUS_FEIN_6.0                    NaN         NaN                  NaN   \n",
       "LP_STATUS_FEIN_9.0                    NaN         NaN                  NaN   \n",
       "LP_STATUS_GROB_3.0                    NaN         NaN                  NaN   \n",
       "LP_STATUS_GROB_4.0                    NaN         NaN                  NaN   \n",
       "\n",
       "                     LP_LEBENSPHASE_GROB  RETOURTYP_BK_S  SOHO_KZ  VERS_TYP  \\\n",
       "LP_LEBENSPHASE_FEIN             0.990156             NaN      NaN       NaN   \n",
       "LP_LEBENSPHASE_GROB                  NaN             NaN      NaN       NaN   \n",
       "KBA05_ANTG1                          NaN             NaN      NaN       NaN   \n",
       "KBA05_GBZ                            NaN             NaN      NaN       NaN   \n",
       "EWDICHTE                             NaN             NaN      NaN       NaN   \n",
       "MOBI_REGIO                           NaN             NaN      NaN       NaN   \n",
       "ORTSGR_KLS9                          NaN             NaN      NaN       NaN   \n",
       "LP_FAMILIE_FEIN_1.0             0.835459             NaN      NaN       NaN   \n",
       "LP_FAMILIE_GROB_1.0             0.835459             NaN      NaN       NaN   \n",
       "LP_FAMILIE_GROB_5.0             0.875868             NaN      NaN       NaN   \n",
       "LP_STATUS_FEIN_6.0                   NaN             NaN      NaN       NaN   \n",
       "LP_STATUS_FEIN_9.0                   NaN             NaN      NaN       NaN   \n",
       "LP_STATUS_GROB_3.0                   NaN             NaN      NaN       NaN   \n",
       "LP_STATUS_GROB_4.0                   NaN             NaN      NaN       NaN   \n",
       "\n",
       "                     ALTER_HH  ANZ_PERSONEN  ANZ_TITEL  \\\n",
       "LP_LEBENSPHASE_FEIN       NaN           NaN        NaN   \n",
       "LP_LEBENSPHASE_GROB       NaN           NaN        NaN   \n",
       "KBA05_ANTG1               NaN           NaN        NaN   \n",
       "KBA05_GBZ                 NaN           NaN        NaN   \n",
       "EWDICHTE                  NaN           NaN        NaN   \n",
       "MOBI_REGIO                NaN           NaN        NaN   \n",
       "ORTSGR_KLS9               NaN           NaN        NaN   \n",
       "LP_FAMILIE_FEIN_1.0       NaN           NaN        NaN   \n",
       "LP_FAMILIE_GROB_1.0       NaN           NaN        NaN   \n",
       "LP_FAMILIE_GROB_5.0       NaN           NaN        NaN   \n",
       "LP_STATUS_FEIN_6.0        NaN           NaN        NaN   \n",
       "LP_STATUS_FEIN_9.0        NaN           NaN        NaN   \n",
       "LP_STATUS_GROB_3.0        NaN           NaN        NaN   \n",
       "LP_STATUS_GROB_4.0        NaN           NaN        NaN   \n",
       "\n",
       "                               ...              CAMEO_DEU_2015_8D  \\\n",
       "LP_LEBENSPHASE_FEIN            ...                            NaN   \n",
       "LP_LEBENSPHASE_GROB            ...                            NaN   \n",
       "KBA05_ANTG1                    ...                            NaN   \n",
       "KBA05_GBZ                      ...                            NaN   \n",
       "EWDICHTE                       ...                            NaN   \n",
       "MOBI_REGIO                     ...                            NaN   \n",
       "ORTSGR_KLS9                    ...                            NaN   \n",
       "LP_FAMILIE_FEIN_1.0            ...                            NaN   \n",
       "LP_FAMILIE_GROB_1.0            ...                            NaN   \n",
       "LP_FAMILIE_GROB_5.0            ...                            NaN   \n",
       "LP_STATUS_FEIN_6.0             ...                            NaN   \n",
       "LP_STATUS_FEIN_9.0             ...                            NaN   \n",
       "LP_STATUS_GROB_3.0             ...                            NaN   \n",
       "LP_STATUS_GROB_4.0             ...                            NaN   \n",
       "\n",
       "                     CAMEO_DEU_2015_9A  CAMEO_DEU_2015_9B  CAMEO_DEU_2015_9C  \\\n",
       "LP_LEBENSPHASE_FEIN                NaN                NaN                NaN   \n",
       "LP_LEBENSPHASE_GROB                NaN                NaN                NaN   \n",
       "KBA05_ANTG1                        NaN                NaN                NaN   \n",
       "KBA05_GBZ                          NaN                NaN                NaN   \n",
       "EWDICHTE                           NaN                NaN                NaN   \n",
       "MOBI_REGIO                         NaN                NaN                NaN   \n",
       "ORTSGR_KLS9                        NaN                NaN                NaN   \n",
       "LP_FAMILIE_FEIN_1.0                NaN                NaN                NaN   \n",
       "LP_FAMILIE_GROB_1.0                NaN                NaN                NaN   \n",
       "LP_FAMILIE_GROB_5.0                NaN                NaN                NaN   \n",
       "LP_STATUS_FEIN_6.0                 NaN                NaN                NaN   \n",
       "LP_STATUS_FEIN_9.0                 NaN                NaN                NaN   \n",
       "LP_STATUS_GROB_3.0                 NaN                NaN                NaN   \n",
       "LP_STATUS_GROB_4.0                 NaN                NaN                NaN   \n",
       "\n",
       "                     CAMEO_DEU_2015_9D  CAMEO_DEU_2015_9E  \\\n",
       "LP_LEBENSPHASE_FEIN                NaN                NaN   \n",
       "LP_LEBENSPHASE_GROB                NaN                NaN   \n",
       "KBA05_ANTG1                        NaN                NaN   \n",
       "KBA05_GBZ                          NaN                NaN   \n",
       "EWDICHTE                           NaN                NaN   \n",
       "MOBI_REGIO                         NaN                NaN   \n",
       "ORTSGR_KLS9                        NaN                NaN   \n",
       "LP_FAMILIE_FEIN_1.0                NaN                NaN   \n",
       "LP_FAMILIE_GROB_1.0                NaN                NaN   \n",
       "LP_FAMILIE_GROB_5.0                NaN                NaN   \n",
       "LP_STATUS_FEIN_6.0                 NaN                NaN   \n",
       "LP_STATUS_FEIN_9.0                 NaN                NaN   \n",
       "LP_STATUS_GROB_3.0                 NaN                NaN   \n",
       "LP_STATUS_GROB_4.0                 NaN                NaN   \n",
       "\n",
       "                     PRAEGENDE_JUGENDJAHRE_DECADE  \\\n",
       "LP_LEBENSPHASE_FEIN                           NaN   \n",
       "LP_LEBENSPHASE_GROB                           NaN   \n",
       "KBA05_ANTG1                                   NaN   \n",
       "KBA05_GBZ                                     NaN   \n",
       "EWDICHTE                                      NaN   \n",
       "MOBI_REGIO                                    NaN   \n",
       "ORTSGR_KLS9                                   NaN   \n",
       "LP_FAMILIE_FEIN_1.0                           NaN   \n",
       "LP_FAMILIE_GROB_1.0                           NaN   \n",
       "LP_FAMILIE_GROB_5.0                           NaN   \n",
       "LP_STATUS_FEIN_6.0                            NaN   \n",
       "LP_STATUS_FEIN_9.0                            NaN   \n",
       "LP_STATUS_GROB_3.0                            NaN   \n",
       "LP_STATUS_GROB_4.0                            NaN   \n",
       "\n",
       "                     PRAEGENDE_JUGENDJAHRE_MOVEMENT  CAMEO_INTL_2015_WEALTH  \\\n",
       "LP_LEBENSPHASE_FEIN                             NaN                     NaN   \n",
       "LP_LEBENSPHASE_GROB                             NaN                     NaN   \n",
       "KBA05_ANTG1                                     NaN                     NaN   \n",
       "KBA05_GBZ                                       NaN                     NaN   \n",
       "EWDICHTE                                        NaN                     NaN   \n",
       "MOBI_REGIO                                      NaN                     NaN   \n",
       "ORTSGR_KLS9                                     NaN                     NaN   \n",
       "LP_FAMILIE_FEIN_1.0                             NaN                     NaN   \n",
       "LP_FAMILIE_GROB_1.0                             NaN                     NaN   \n",
       "LP_FAMILIE_GROB_5.0                             NaN                     NaN   \n",
       "LP_STATUS_FEIN_6.0                              NaN                     NaN   \n",
       "LP_STATUS_FEIN_9.0                              NaN                     NaN   \n",
       "LP_STATUS_GROB_3.0                              NaN                     NaN   \n",
       "LP_STATUS_GROB_4.0                              NaN                     NaN   \n",
       "\n",
       "                     CAMEO_INTL_2015_LIFESTAGE  \n",
       "LP_LEBENSPHASE_FEIN                        NaN  \n",
       "LP_LEBENSPHASE_GROB                        NaN  \n",
       "KBA05_ANTG1                                NaN  \n",
       "KBA05_GBZ                                  NaN  \n",
       "EWDICHTE                                   NaN  \n",
       "MOBI_REGIO                                 NaN  \n",
       "ORTSGR_KLS9                                NaN  \n",
       "LP_FAMILIE_FEIN_1.0                        NaN  \n",
       "LP_FAMILIE_GROB_1.0                        NaN  \n",
       "LP_FAMILIE_GROB_5.0                        NaN  \n",
       "LP_STATUS_FEIN_6.0                         NaN  \n",
       "LP_STATUS_FEIN_9.0                         NaN  \n",
       "LP_STATUS_GROB_3.0                         NaN  \n",
       "LP_STATUS_GROB_4.0                         NaN  \n",
       "\n",
       "[14 rows x 163 columns]"
      ]
     },
     "execution_count": 306,
     "metadata": {},
     "output_type": "execute_result"
    }
   ],
   "source": [
    "corr.dropna(how='all')"
   ]
  },
  {
   "cell_type": "code",
   "execution_count": 307,
   "metadata": {},
   "outputs": [],
   "source": [
    "# Do whatever you need to in order to ensure that the dataframe only contains\n",
    "# the columns that should be passed to the algorithm functions.\n",
    "\n",
    "azdias.drop('LP_LEBENSPHASE_GROB', inplace=True, axis=1)"
   ]
  },
  {
   "cell_type": "markdown",
   "metadata": {},
   "source": [
    "### Step 1.3: Create a Cleaning Function\n",
    "\n",
    "Even though you've finished cleaning up the general population demographics data, it's important to look ahead to the future and realize that you'll need to perform the same cleaning steps on the customer demographics data. In this substep, complete the function below to execute the main feature selection, encoding, and re-engineering steps you performed above. Then, when it comes to looking at the customer data in Step 3, you can just run this function on that DataFrame to get the trimmed dataset in a single step."
   ]
  },
  {
   "cell_type": "code",
   "execution_count": 5,
   "metadata": {},
   "outputs": [],
   "source": [
    "def clean_data(data, features):\n",
    "    \"\"\"\n",
    "    Perform feature trimming, re-encoding, and engineering for demographics\n",
    "    data\n",
    "    \n",
    "    INPUT: Demographics DataFrame\n",
    "    OUTPUT: Trimmed and cleaned demographics DataFrame\n",
    "    \"\"\"\n",
    "\n",
    "    # Replace NaN values with NaN\n",
    "\n",
    "    def make_list(value):\n",
    "        value = value.strip('][').split(',')\n",
    "        return(value)\n",
    "\n",
    "    def process_string(value):\n",
    "        try:\n",
    "            int(value)\n",
    "            return(int(value))\n",
    "        except:\n",
    "            return(str(value))\n",
    "\n",
    "    temp_data = features[['attribute', 'missing_or_unknown']]\n",
    "    temp_data['missing_or_unknown'] = temp_data.missing_or_unknown.apply(make_list)\n",
    "    temp_data['missing_or_unknown'] = temp_data.missing_or_unknown.apply(lambda y: [process_string(value) for value in y])\n",
    "    temp_data.index = temp_data.attribute\n",
    "    temp_data.drop('attribute', inplace=True, axis=1)\n",
    "\n",
    "    columns = data.columns\n",
    "    for column in tqdm(columns):\n",
    "        data[column] = data[column].replace(temp_data.loc[column][0], np.nan)\n",
    "\n",
    "\n",
    "    # Handle Missing Data\n",
    "    \n",
    "    missing_data = data.isna().sum()\n",
    "    missing_data = round(missing_data[missing_data > 0]/(data.shape[0]) * 100, 2)\n",
    "\n",
    "    columns_to_keep = list(missing_data[missing_data < 40].index)\n",
    "    data = data[columns_to_keep]\n",
    "\n",
    "    # Handle Missing Rows\n",
    "\n",
    "    data = data[data.isna().sum(axis=1) <= 10]\n",
    "\n",
    "    # Categorical Reencoding\n",
    "\n",
    "    categorical = list(features[features.type == 'categorical']['attribute'])\n",
    "    categorical = [column for column in categorical if column in list(data.columns)]\n",
    "\n",
    "    binary = [column for column in categorical if data[column].nunique(dropna=True) == 2]\n",
    "    multilevel = [column for column in categorical if column not in binary]\n",
    "\n",
    "    data['OST_WEST_KZ'].replace(['W', 'O'], [1, 0], inplace=True)\n",
    "    data = pd.get_dummies(data, columns=multilevel)\n",
    "\n",
    "    # Mixed Handling\n",
    "\n",
    "    def get_decade(x):\n",
    "        if np.isnan(x):\n",
    "            return(np.nan)\n",
    "        elif x in [1,2]:\n",
    "            return(40)\n",
    "        elif x in [3,4]:\n",
    "            return(50)\n",
    "        elif x in [5,6,7]:\n",
    "            return(60)\n",
    "        elif x in [8,9]:\n",
    "            return(70)\n",
    "        elif x in [10,11,12,13]:\n",
    "            return(80)\n",
    "        elif x in [14,15]:\n",
    "            return(90)\n",
    "    \n",
    "    def get_movement(x):\n",
    "        if np.isnan(x):\n",
    "            return(np.nan)\n",
    "        elif x in [1,3,5,8,10,12,14]:\n",
    "            return(0)\n",
    "        else:\n",
    "            return(1)\n",
    "        \n",
    "    data['PRAEGENDE_JUGENDJAHRE_DECADE'] = data['PRAEGENDE_JUGENDJAHRE'].apply(get_decade)\n",
    "    data['PRAEGENDE_JUGENDJAHRE_MOVEMENT'] = data['PRAEGENDE_JUGENDJAHRE'].apply(get_movement)\n",
    "    data.drop('PRAEGENDE_JUGENDJAHRE', axis=1, inplace=True)\n",
    "\n",
    "    def get_split_data(x):\n",
    "        if pd.isnull(x):\n",
    "            return(np.nan, np.nan)\n",
    "        else:\n",
    "            num = str(x)\n",
    "            return([int(num[0]), int(num[1])])\n",
    "\n",
    "    data['CAMEO_INTL_2015_WEALTH'], data['CAMEO_INTL_2015_LIFESTAGE'] = zip(*data['CAMEO_INTL_2015'].map(get_split_data))\n",
    "    data.drop('CAMEO_INTL_2015', axis=1, inplace=True)\n",
    "    data.drop('LP_LEBENSPHASE_GROB', inplace=True, axis=1)\n",
    "    \n",
    "    try:\n",
    "        data.drop('GEBAEUDETYP_5.0', inplace=True, axis=1)\n",
    "    except:\n",
    "        print('')\n",
    "    \n",
    "    return(data)"
   ]
  },
  {
   "cell_type": "markdown",
   "metadata": {},
   "source": [
    "**Testing the** `clean_data` **function**"
   ]
  },
  {
   "cell_type": "code",
   "execution_count": 313,
   "metadata": {},
   "outputs": [],
   "source": [
    "beta_azdias = pd.read_csv('Udacity_AZDIAS_Subset.csv', delimiter=';')\n",
    "beta_feat_info = pd.read_csv('AZDIAS_Feature_Summary.csv', delimiter=';')"
   ]
  },
  {
   "cell_type": "code",
   "execution_count": 314,
   "metadata": {},
   "outputs": [
    {
     "name": "stderr",
     "output_type": "stream",
     "text": [
      "100%|██████████| 85/85 [00:03<00:00, 23.21it/s]\n"
     ]
    }
   ],
   "source": [
    "beta_cleaned = clean_data(beta_azdias, beta_feat_info)"
   ]
  },
  {
   "cell_type": "code",
   "execution_count": 315,
   "metadata": {},
   "outputs": [
    {
     "data": {
      "text/plain": [
       "778345"
      ]
     },
     "execution_count": 315,
     "metadata": {},
     "output_type": "execute_result"
    }
   ],
   "source": [
    "beta_cleaned.shape[0]"
   ]
  },
  {
   "cell_type": "code",
   "execution_count": 316,
   "metadata": {},
   "outputs": [
    {
     "data": {
      "text/plain": [
       "778345"
      ]
     },
     "execution_count": 316,
     "metadata": {},
     "output_type": "execute_result"
    }
   ],
   "source": [
    "azdias.shape[0]"
   ]
  },
  {
   "cell_type": "markdown",
   "metadata": {},
   "source": [
    "**Test successful!**"
   ]
  },
  {
   "cell_type": "markdown",
   "metadata": {},
   "source": [
    "## Step 2: Feature Transformation\n",
    "\n",
    "### Step 2.1: Apply Feature Scaling\n",
    "\n",
    "Before we apply dimensionality reduction techniques to the data, we need to perform feature scaling so that the principal component vectors are not influenced by the natural differences in scale for features. Starting from this part of the project, you'll want to keep an eye on the [API reference page for sklearn](http://scikit-learn.org/stable/modules/classes.html) to help you navigate to all of the classes and functions that you'll need. In this substep, you'll need to check the following:\n",
    "\n",
    "- sklearn requires that data not have missing values in order for its estimators to work properly. So, before applying the scaler to your data, make sure that you've cleaned the DataFrame of the remaining missing values. This can be as simple as just removing all data points with missing data, or applying an [Imputer](http://scikit-learn.org/stable/modules/generated/sklearn.preprocessing.Imputer.html) to replace all missing values. You might also try a more complicated procedure where you temporarily remove missing values in order to compute the scaling parameters before re-introducing those missing values and applying imputation. Think about how much missing data you have and what possible effects each approach might have on your analysis, and justify your decision in the discussion section below.\n",
    "- For the actual scaling function, a [StandardScaler](http://scikit-learn.org/stable/modules/generated/sklearn.preprocessing.StandardScaler.html) instance is suggested, scaling each feature to mean 0 and standard deviation 1.\n",
    "- For these classes, you can make use of the `.fit_transform()` method to both fit a procedure to the data as well as apply the transformation to the data at the same time. Don't forget to keep the fit sklearn objects handy, since you'll be applying them to the customer demographics data towards the end of the project."
   ]
  },
  {
   "cell_type": "code",
   "execution_count": 6,
   "metadata": {},
   "outputs": [
    {
     "name": "stderr",
     "output_type": "stream",
     "text": [
      "100%|██████████| 85/85 [00:02<00:00, 30.70it/s]\n"
     ]
    }
   ],
   "source": [
    "### Reloading data\n",
    "\n",
    "azdias = pd.read_csv('Udacity_AZDIAS_Subset.csv', delimiter=';')\n",
    "feat_info = pd.read_csv('AZDIAS_Feature_Summary.csv', delimiter=';')\n",
    "azdias = clean_data(azdias, feat_info)"
   ]
  },
  {
   "cell_type": "code",
   "execution_count": 7,
   "metadata": {},
   "outputs": [],
   "source": [
    "# If you've not yet cleaned the dataset of all NaN values, then investigate and\n",
    "# do that now.\n",
    "azdias = azdias.dropna()"
   ]
  },
  {
   "cell_type": "code",
   "execution_count": 8,
   "metadata": {},
   "outputs": [],
   "source": [
    "# Apply feature scaling to the general population demographics data.\n",
    "\n",
    "scaler = StandardScaler()\n",
    "scaled_azdias = scaler.fit_transform(azdias)"
   ]
  },
  {
   "cell_type": "markdown",
   "metadata": {},
   "source": [
    "### Discussion 2.1: Apply Feature Scaling\n",
    "\n",
    "Once our `clean_data` function was ready. The next step was to treat NaNs. Initially, the idea was to fill them using `fillna()` but apparently, this causes a lot of memory issues later so we're using `dropna()` to delete them.\n",
    "\n",
    "Once that was done, we used `StandardScaler()` to `fit_transform()` the data."
   ]
  },
  {
   "cell_type": "markdown",
   "metadata": {},
   "source": [
    "### Step 2.2: Perform Dimensionality Reduction\n",
    "\n",
    "On your scaled data, you are now ready to apply dimensionality reduction techniques.\n",
    "\n",
    "- Use sklearn's [PCA](http://scikit-learn.org/stable/modules/generated/sklearn.decomposition.PCA.html) class to apply principal component analysis on the data, thus finding the vectors of maximal variance in the data. To start, you should not set any parameters (so all components are computed) or set a number of components that is at least half the number of features (so there's enough features to see the general trend in variability).\n",
    "- Check out the ratio of variance explained by each principal component as well as the cumulative variance explained. Try plotting the cumulative or sequential values using matplotlib's [`plot()`](https://matplotlib.org/api/_as_gen/matplotlib.pyplot.plot.html) function. Based on what you find, select a value for the number of transformed features you'll retain for the clustering part of the project.\n",
    "- Once you've made a choice for the number of components to keep, make sure you re-fit a PCA instance to perform the decided-on transformation."
   ]
  },
  {
   "cell_type": "code",
   "execution_count": 52,
   "metadata": {},
   "outputs": [],
   "source": [
    "# Apply PCA to the data.\n",
    "\n",
    "pca = PCA()\n",
    "pca_azdias = pca.fit_transform(scaled_azdias)"
   ]
  },
  {
   "cell_type": "code",
   "execution_count": 53,
   "metadata": {},
   "outputs": [
    {
     "data": {
      "image/png": "[encoded data removed]",
      "text/plain": [
       "<matplotlib.figure.Figure at 0x7f9b36840128>"
      ]
     },
     "metadata": {
      "needs_background": "light"
     },
     "output_type": "display_data"
    }
   ],
   "source": [
    "# Investigate the variance accounted for by each principal component.\n",
    "\n",
    "def scree_plot(pca):\n",
    "    \n",
    "    num_components = len(pca.explained_variance_ratio_)\n",
    "    ind = np.arange(num_components)\n",
    "    vals = pca.explained_variance_ratio_\n",
    " \n",
    "    plt.figure(figsize=(20, 9))\n",
    "    ax = plt.subplot(1,1,1)\n",
    "    cumvals = np.cumsum(vals)\n",
    "    ax.bar(ind, vals)\n",
    "    ax.plot(ind, cumvals)\n",
    "    \n",
    "    ax.xaxis.set_tick_params(width=0)\n",
    "    ax.yaxis.set_tick_params(width=2, length=12)\n",
    " \n",
    "    ax.set_xlabel(\"Principal Component\")\n",
    "    ax.set_ylabel(\"Variance Explained (%)\")\n",
    "    plt.title('Explained Variance Per Principal Component')\n",
    "    \n",
    "scree_plot(pca)"
   ]
  },
  {
   "cell_type": "code",
   "execution_count": 9,
   "metadata": {},
   "outputs": [],
   "source": [
    "# Re-apply PCA to the data while selecting for number of components to retain.\n",
    "\n",
    "n = 70\n",
    "pca_selected = PCA(n_components=n)\n",
    "pca_selected_azdias = pca_selected.fit_transform(scaled_azdias)"
   ]
  },
  {
   "cell_type": "code",
   "execution_count": 55,
   "metadata": {},
   "outputs": [
    {
     "data": {
      "image/png": "[encoded data removed]",
      "text/plain": [
       "<matplotlib.figure.Figure at 0x7f9b375f5390>"
      ]
     },
     "metadata": {
      "needs_background": "light"
     },
     "output_type": "display_data"
    }
   ],
   "source": [
    "scree_plot(pca_selected)"
   ]
  },
  {
   "cell_type": "code",
   "execution_count": 56,
   "metadata": {},
   "outputs": [
    {
     "data": {
      "text/plain": [
       "77.0"
      ]
     },
     "execution_count": 56,
     "metadata": {},
     "output_type": "execute_result"
    }
   ],
   "source": [
    "round(pca_selected.explained_variance_ratio_.sum()*100,0)"
   ]
  },
  {
   "cell_type": "markdown",
   "metadata": {},
   "source": [
    "### Discussion 2.2: Perform Dimensionality Reduction\n",
    "\n",
    "If we look at our original scree plot, we can notice that the graph tends to get flatter at around 40 components. However, at 40 components almost 0.6 or 60% of the variability is explained. Going a little further up, we can see that if we want ~75% of the variability to be explained, 70 components seems to be a good number. Therefore, we're going to go with **70 Principal Components**."
   ]
  },
  {
   "cell_type": "markdown",
   "metadata": {},
   "source": [
    "### Step 2.3: Interpret Principal Components\n",
    "\n",
    "Now that we have our transformed principal components, it's a nice idea to check out the weight of each variable on the first few components to see if they can be interpreted in some fashion.\n",
    "\n",
    "As a reminder, each principal component is a unit vector that points in the direction of highest variance (after accounting for the variance captured by earlier principal components). The further a weight is from zero, the more the principal component is in the direction of the corresponding feature. If two features have large weights of the same sign (both positive or both negative), then increases in one tend expect to be associated with increases in the other. To contrast, features with different signs can be expected to show a negative correlation: increases in one variable should result in a decrease in the other.\n",
    "\n",
    "- To investigate the features, you should map each weight to their corresponding feature name, then sort the features according to weight. The most interesting features for each principal component, then, will be those at the beginning and end of the sorted list. Use the data dictionary document to help you understand these most prominent features, their relationships, and what a positive or negative value on the principal component might indicate.\n",
    "- You should investigate and interpret feature associations from the first three principal components in this substep. To help facilitate this, you should write a function that you can call at any time to print the sorted list of feature weights, for the *i*-th principal component. This might come in handy in the next step of the project, when you interpret the tendencies of the discovered clusters."
   ]
  },
  {
   "cell_type": "code",
   "execution_count": 78,
   "metadata": {},
   "outputs": [],
   "source": [
    "def plot_component(data, pca, k):\n",
    "    component = pd.DataFrame(np.round(pca.components_,3), columns=data.keys()).iloc[k-1]\n",
    "    component.sort_values(ascending=False, inplace=True)\n",
    "    component = pd.concat([component.head(5), component.tail(5)])\n",
    "    component.columns = ['attribute','coeff']\n",
    "    try:\n",
    "        component.plot(kind='bar', figsize=(20,7))\n",
    "    except:\n",
    "        print('Error Plotting')\n",
    "    return(pd.DataFrame(component).T)"
   ]
  },
  {
   "cell_type": "code",
   "execution_count": 94,
   "metadata": {},
   "outputs": [
    {
     "data": {
      "text/html": [
       "<div>\n",
       "<style scoped>\n",
       "    .dataframe tbody tr th:only-of-type {\n",
       "        vertical-align: middle;\n",
       "    }\n",
       "\n",
       "    .dataframe tbody tr th {\n",
       "        vertical-align: top;\n",
       "    }\n",
       "\n",
       "    .dataframe thead th {\n",
       "        text-align: right;\n",
       "    }\n",
       "</style>\n",
       "<table border=\"1\" class=\"dataframe\">\n",
       "  <thead>\n",
       "    <tr style=\"text-align: right;\">\n",
       "      <th></th>\n",
       "      <th>PLZ8_ANTG3</th>\n",
       "      <th>PLZ8_ANTG4</th>\n",
       "      <th>CAMEO_INTL_2015_WEALTH</th>\n",
       "      <th>LP_STATUS_GROB_1.0</th>\n",
       "      <th>PLZ8_BAUMAX</th>\n",
       "      <th>KONSUMNAEHE</th>\n",
       "      <th>KBA05_GBZ</th>\n",
       "      <th>KBA05_ANTG1</th>\n",
       "      <th>PLZ8_ANTG1</th>\n",
       "      <th>MOBI_REGIO</th>\n",
       "    </tr>\n",
       "  </thead>\n",
       "  <tbody>\n",
       "    <tr>\n",
       "      <th>0</th>\n",
       "      <td>0.205</td>\n",
       "      <td>0.199</td>\n",
       "      <td>0.198</td>\n",
       "      <td>0.195</td>\n",
       "      <td>0.193</td>\n",
       "      <td>-0.154</td>\n",
       "      <td>-0.195</td>\n",
       "      <td>-0.2</td>\n",
       "      <td>-0.204</td>\n",
       "      <td>-0.219</td>\n",
       "    </tr>\n",
       "  </tbody>\n",
       "</table>\n",
       "</div>"
      ],
      "text/plain": [
       "   PLZ8_ANTG3  PLZ8_ANTG4  CAMEO_INTL_2015_WEALTH  LP_STATUS_GROB_1.0  \\\n",
       "0       0.205       0.199                   0.198               0.195   \n",
       "\n",
       "   PLZ8_BAUMAX  KONSUMNAEHE  KBA05_GBZ  KBA05_ANTG1  PLZ8_ANTG1  MOBI_REGIO  \n",
       "0        0.193       -0.154     -0.195         -0.2      -0.204      -0.219  "
      ]
     },
     "execution_count": 94,
     "metadata": {},
     "output_type": "execute_result"
    },
    {
     "data": {
      "image/png": "[encoded data removed]",
      "text/plain": [
       "<matplotlib.figure.Figure at 0x7f90ed634ac8>"
      ]
     },
     "metadata": {
      "needs_background": "light"
     },
     "output_type": "display_data"
    }
   ],
   "source": [
    "# Map weights for the first principal component to corresponding feature names\n",
    "# and then print the linked values, sorted by weight.\n",
    "# HINT: Try defining a function here or in a new cell that you can reuse in the\n",
    "# other cells.\n",
    "\n",
    "plot_component(azdias, pca_selected, 1)"
   ]
  },
  {
   "cell_type": "code",
   "execution_count": 95,
   "metadata": {},
   "outputs": [
    {
     "data": {
      "text/html": [
       "<div>\n",
       "<style scoped>\n",
       "    .dataframe tbody tr th:only-of-type {\n",
       "        vertical-align: middle;\n",
       "    }\n",
       "\n",
       "    .dataframe tbody tr th {\n",
       "        vertical-align: top;\n",
       "    }\n",
       "\n",
       "    .dataframe thead th {\n",
       "        text-align: right;\n",
       "    }\n",
       "</style>\n",
       "<table border=\"1\" class=\"dataframe\">\n",
       "  <thead>\n",
       "    <tr style=\"text-align: right;\">\n",
       "      <th></th>\n",
       "      <th>ANZ_PERSONEN</th>\n",
       "      <th>LP_LEBENSPHASE_FEIN</th>\n",
       "      <th>ONLINE_AFFINITAET</th>\n",
       "      <th>ALTER_HH</th>\n",
       "      <th>LP_FAMILIE_GROB_5.0</th>\n",
       "      <th>CJT_GESAMTTYP_2.0</th>\n",
       "      <th>ALTERSKATEGORIE_GROB</th>\n",
       "      <th>LP_FAMILIE_FEIN_1.0</th>\n",
       "      <th>LP_FAMILIE_GROB_1.0</th>\n",
       "      <th>W_KEIT_KIND_HH</th>\n",
       "    </tr>\n",
       "  </thead>\n",
       "  <tbody>\n",
       "    <tr>\n",
       "      <th>1</th>\n",
       "      <td>0.264</td>\n",
       "      <td>0.259</td>\n",
       "      <td>0.252</td>\n",
       "      <td>0.249</td>\n",
       "      <td>0.235</td>\n",
       "      <td>-0.143</td>\n",
       "      <td>-0.179</td>\n",
       "      <td>-0.272</td>\n",
       "      <td>-0.272</td>\n",
       "      <td>-0.277</td>\n",
       "    </tr>\n",
       "  </tbody>\n",
       "</table>\n",
       "</div>"
      ],
      "text/plain": [
       "   ANZ_PERSONEN  LP_LEBENSPHASE_FEIN  ONLINE_AFFINITAET  ALTER_HH  \\\n",
       "1         0.264                0.259              0.252     0.249   \n",
       "\n",
       "   LP_FAMILIE_GROB_5.0  CJT_GESAMTTYP_2.0  ALTERSKATEGORIE_GROB  \\\n",
       "1                0.235             -0.143                -0.179   \n",
       "\n",
       "   LP_FAMILIE_FEIN_1.0  LP_FAMILIE_GROB_1.0  W_KEIT_KIND_HH  \n",
       "1               -0.272               -0.272          -0.277  "
      ]
     },
     "execution_count": 95,
     "metadata": {},
     "output_type": "execute_result"
    },
    {
     "data": {
      "image/png": "[encoded data removed]",
      "text/plain": [
       "<matplotlib.figure.Figure at 0x7f90eed6a390>"
      ]
     },
     "metadata": {
      "needs_background": "light"
     },
     "output_type": "display_data"
    }
   ],
   "source": [
    "# Map weights for the second principal component to corresponding feature names\n",
    "# and then print the linked values, sorted by weight.\n",
    "\n",
    "plot_component(azdias, pca_selected, 2)"
   ]
  },
  {
   "cell_type": "code",
   "execution_count": 96,
   "metadata": {},
   "outputs": [
    {
     "data": {
      "text/html": [
       "<div>\n",
       "<style scoped>\n",
       "    .dataframe tbody tr th:only-of-type {\n",
       "        vertical-align: middle;\n",
       "    }\n",
       "\n",
       "    .dataframe tbody tr th {\n",
       "        vertical-align: top;\n",
       "    }\n",
       "\n",
       "    .dataframe thead th {\n",
       "        text-align: right;\n",
       "    }\n",
       "</style>\n",
       "<table border=\"1\" class=\"dataframe\">\n",
       "  <thead>\n",
       "    <tr style=\"text-align: right;\">\n",
       "      <th></th>\n",
       "      <th>PRAEGENDE_JUGENDJAHRE_MOVEMENT</th>\n",
       "      <th>LP_STATUS_FEIN_10.0</th>\n",
       "      <th>LP_STATUS_GROB_5.0</th>\n",
       "      <th>ALTERSKATEGORIE_GROB</th>\n",
       "      <th>EWDICHTE</th>\n",
       "      <th>KKK</th>\n",
       "      <th>ALTER_HH</th>\n",
       "      <th>HH_EINKOMMEN_SCORE</th>\n",
       "      <th>WOHNLAGE</th>\n",
       "      <th>PRAEGENDE_JUGENDJAHRE_DECADE</th>\n",
       "    </tr>\n",
       "  </thead>\n",
       "  <tbody>\n",
       "    <tr>\n",
       "      <th>2</th>\n",
       "      <td>0.272</td>\n",
       "      <td>0.253</td>\n",
       "      <td>0.253</td>\n",
       "      <td>0.192</td>\n",
       "      <td>0.181</td>\n",
       "      <td>-0.165</td>\n",
       "      <td>-0.172</td>\n",
       "      <td>-0.177</td>\n",
       "      <td>-0.197</td>\n",
       "      <td>-0.226</td>\n",
       "    </tr>\n",
       "  </tbody>\n",
       "</table>\n",
       "</div>"
      ],
      "text/plain": [
       "   PRAEGENDE_JUGENDJAHRE_MOVEMENT  LP_STATUS_FEIN_10.0  LP_STATUS_GROB_5.0  \\\n",
       "2                           0.272                0.253               0.253   \n",
       "\n",
       "   ALTERSKATEGORIE_GROB  EWDICHTE    KKK  ALTER_HH  HH_EINKOMMEN_SCORE  \\\n",
       "2                 0.192     0.181 -0.165    -0.172              -0.177   \n",
       "\n",
       "   WOHNLAGE  PRAEGENDE_JUGENDJAHRE_DECADE  \n",
       "2    -0.197                        -0.226  "
      ]
     },
     "execution_count": 96,
     "metadata": {},
     "output_type": "execute_result"
    },
    {
     "data": {
      "image/png": "[encoded data removed]",
      "text/plain": [
       "<matplotlib.figure.Figure at 0x7f90eede2048>"
      ]
     },
     "metadata": {
      "needs_background": "light"
     },
     "output_type": "display_data"
    }
   ],
   "source": [
    "# Map weights for the third principal component to corresponding feature names\n",
    "# and then print the linked values, sorted by weight.\n",
    "\n",
    "plot_component(azdias, pca_selected, 3)"
   ]
  },
  {
   "cell_type": "markdown",
   "metadata": {},
   "source": [
    "### Discussion 2.3: Interpret Principal Components\n",
    "\n",
    "#### First Component Analysis:\n",
    "\n",
    "**Positively** related to:\n",
    "- `PLZ8_ANTG3`: No. of 6-10 Family Houses in the PLZ8 region\n",
    "- `PLZ8_ANTG4`: No. of 10+ Family Houses in the PLZ8 region\n",
    "- `CAMEO_INTL_2015_WEALTH`: Wealth\n",
    "- `LP_STATUS_GROB_1.0`: Low-income Earners\n",
    "- `PLZ8_BAUMAX`: Most Common Building Type in the PLZ8 region\n",
    "\n",
    "**Negatively** related to:\n",
    "\n",
    "- `KONSUMNAEHE`: Distance of Building from PoS\n",
    "- `KBA05_GBZ`: No. of Buildings in the Microcell\n",
    "- `KBA05_ANTG1`: Number of 1-2 Family Houses in the Microcell\n",
    "- `PLZ8_ANTG1`: Number of 1-2 Family Houses in the PLZ8 region\n",
    "- `MOBI_REGIO`: Movement Patterns\n",
    "\n",
    "**Description:** We can speculate that this talks about well-settled larger households in a homogenous neighbourhood with lower-income rates which are closer to the PoS in the PLZ8 region. The reason for this is because there is a negative relationship with smaller households based on the two variables mentioned above. Also, there seems to be a negative relationship with movement patterns which when looked together with the most common building type and the 6-10+ family houses and the positive affect says that these are similar people with lower-income rates living together in larger families.\n",
    "\n",
    "-----\n",
    "\n",
    "\n",
    "#### Second Component Analysis:\n",
    "\n",
    "**Positively** related to:\n",
    "- `LP_FAMILIE_GROB_5.0`: Multiperson Households (Fine Scale)\n",
    "- `ALTER_HH`: Birthdate of Head of the Household\n",
    "- `ONLINE_AFFINITAET`: Online Affinity\n",
    "- `LP_LEBENSPHASE_FEIN`: Life Stage, Fine Scale\n",
    "- `ANZ_PERSONEN`: No. of Adults in the Household\n",
    "\n",
    "**Negatively** related to:\n",
    "- `CJT_GESAMTTYP_2.0`: Advertising and Consumption Tradationalist\n",
    "- `ALTERSKATEGORIE_GROB`: Estimated age based on given name analysis\n",
    "- `LP_FAMILIE_FEIN_1.0`: Single (Fine Scale)\n",
    "- `LP_FAMILIE_GROB_1.0`: Single (Rough Scale)\n",
    "- `W_KEIT_KIND_HH`: Likelihood of Children in the Household\n",
    "\n",
    "**Description:** In other words, this component seems to be pointing at households with multiple adults. The fact that it has a positive affinity to Multiperson Households on the Fine Scale and a negative affinity to Single people on the Fine Scale indicates that this may be about larger families. Also, this seems to point toward larger families which are modern and have more online affinity. Therefore, these are not the advertisment based consumption traditionalists but rather more contemporary consumers.\n",
    "\n",
    "-----\n",
    "\n",
    "#### Third Component Analysis:\n",
    "\n",
    "**Positively** related to:\n",
    "- `PRAEGENDE_JUGENDJAHRE_MOVEMENT`: Dominating Movement of Person's Youth\n",
    "- `LP_STATUS_FEIN_10.0`: Top Earners\n",
    "- `LP_STATUS_GROB_5.0`: Top Earners\n",
    "- `ALTERSKATEGORIE_GROB`: Estimated Age based on given name analysis\n",
    "- `EWDICHTE`: Density of Households per square kilometer\n",
    "\n",
    "**Negatively** related to:\n",
    "- `KKK`: Purchasing Power in the Region\n",
    "- `ALTER_HH`: Birthdate of the Head of Household\n",
    "- `HH_EINKOMMEN_SCORE`: Estimated Net Income\n",
    "- `WOHNLAGE`: Neighbourhood Quality\n",
    "- `PRAEGENDE_JUGENDJAHRE_DECADE`: Decade In The Person's Youth\n",
    "\n",
    "This seems to be the most convoluted one. Basically, there's a negative relationship with factors very similar to the ones which have a positive relationship here. This would indicate Top Earners who live in sparse neighbourhoods who seem to be older. However, there's a negative on Purchasing Power and Estimated Net Income. At first thought, this seems to be contradicting, but if we look at it in the following sense: this component talks about high earners living in sparse neighbourhoods while at the same time disregards or does not talk about those earning low net income, with low purchasing power, as well as a bad neighbourhood quality. If we take the negative values to have a specific purpose, this PC starts to make some sense."
   ]
  },
  {
   "cell_type": "markdown",
   "metadata": {},
   "source": [
    "## Step 3: Clustering\n",
    "\n",
    "### Step 3.1: Apply Clustering to General Population\n",
    "\n",
    "You've assessed and cleaned the demographics data, then scaled and transformed them. Now, it's time to see how the data clusters in the principal components space. In this substep, you will apply k-means clustering to the dataset and use the average within-cluster distances from each point to their assigned cluster's centroid to decide on a number of clusters to keep.\n",
    "\n",
    "- Use sklearn's [KMeans](http://scikit-learn.org/stable/modules/generated/sklearn.cluster.KMeans.html#sklearn.cluster.KMeans) class to perform k-means clustering on the PCA-transformed data.\n",
    "- Then, compute the average difference from each point to its assigned cluster's center. **Hint**: The KMeans object's `.score()` method might be useful here, but note that in sklearn, scores tend to be defined so that larger is better. Try applying it to a small, toy dataset, or use an internet search to help your understanding.\n",
    "- Perform the above two steps for a number of different cluster counts. You can then see how the average distance decreases with an increasing number of clusters. However, each additional cluster provides a smaller net benefit. Use this fact to select a final number of clusters in which to group the data. **Warning**: because of the large size of the dataset, it can take a long time for the algorithm to resolve. The more clusters to fit, the longer the algorithm will take. You should test for cluster counts through at least 10 clusters to get the full picture, but you shouldn't need to test for a number of clusters above about 30.\n",
    "- Once you've selected a final number of clusters to use, re-fit a KMeans instance to perform the clustering operation. Make sure that you also obtain the cluster assignments for the general demographics data, since you'll be using them in the final Step 3.3."
   ]
  },
  {
   "cell_type": "code",
   "execution_count": 58,
   "metadata": {},
   "outputs": [],
   "source": [
    "# Subsetting - 15%\n",
    "\n",
    "pca_selected_azdias_sample = pca_selected_azdias[np.random.choice(pca_selected_azdias.shape[0], int(pca_selected_azdias.shape[0]*0.15), replace=False)]"
   ]
  },
  {
   "cell_type": "code",
   "execution_count": 59,
   "metadata": {},
   "outputs": [
    {
     "name": "stderr",
     "output_type": "stream",
     "text": [
      "100%|██████████| 20/20 [06:06<00:00, 21.34s/it]\n"
     ]
    }
   ],
   "source": [
    "# Over a number of different cluster counts...\n",
    "n_clusters = range(10,30)\n",
    "scores = []\n",
    "\n",
    "    # run k-means clustering on the data and...\n",
    "for n in tqdm(n_clusters):\n",
    "    kmeans = KMeans(n, random_state=42).fit(pca_selected_azdias_sample)\n",
    "    scores.append(np.abs(kmeans.score(pca_selected_azdias_sample)))\n",
    "    \n",
    "    # compute the average within-cluster distances.\n",
    "    \n",
    "cluster_dict = dict(zip(n_clusters, scores))"
   ]
  },
  {
   "cell_type": "code",
   "execution_count": 60,
   "metadata": {},
   "outputs": [
    {
     "data": {
      "image/png": "[encoded data removed]",
      "text/plain": [
       "<matplotlib.figure.Figure at 0x7f9b34d17940>"
      ]
     },
     "metadata": {
      "needs_background": "light"
     },
     "output_type": "display_data"
    }
   ],
   "source": [
    "# Investigate the change in within-cluster distance across number of clusters.\n",
    "# HINT: Use matplotlib's plot function to visualize this relationship.\n",
    "\n",
    "plt.figure(figsize=(18, 10))\n",
    "plt.plot(n_clusters, scores, linestyle='-', marker='o')\n",
    "plt.xlabel('K');\n",
    "plt.ylabel('SSE');\n",
    "plt.title('SSE vs. K');"
   ]
  },
  {
   "cell_type": "code",
   "execution_count": 10,
   "metadata": {},
   "outputs": [],
   "source": [
    "# Re-fit the k-means model with the selected number of clusters and obtain\n",
    "# cluster predictions for the general population demographics data.\n",
    "\n",
    "# Choosing 17 Clusters\n",
    "\n",
    "kmeans = KMeans(17, random_state=42).fit(pca_selected_azdias)\n",
    "clusters = kmeans.predict(pca_selected_azdias)"
   ]
  },
  {
   "cell_type": "markdown",
   "metadata": {},
   "source": [
    "### Discussion 3.1: Apply Clustering to General Population\n",
    "\n",
    "We used 15% of the data to try and build an elbow plot to find the appropriate number of cluster centers. We can see the kink at 17 clusters so we're going to go with that."
   ]
  },
  {
   "cell_type": "markdown",
   "metadata": {},
   "source": [
    "### Step 3.2: Apply All Steps to the Customer Data\n",
    "\n",
    "Now that you have clusters and cluster centers for the general population, it's time to see how the customer data maps on to those clusters. Take care to not confuse this for re-fitting all of the models to the customer data. Instead, you're going to use the fits from the general population to clean, transform, and cluster the customer data. In the last step of the project, you will interpret how the general population fits apply to the customer data.\n",
    "\n",
    "- Don't forget when loading in the customers data, that it is semicolon (`;`) delimited.\n",
    "- Apply the same feature wrangling, selection, and engineering steps to the customer demographics using the `clean_data()` function you created earlier. (You can assume that the customer demographics data has similar meaning behind missing data patterns as the general demographics data.)\n",
    "- Use the sklearn objects from the general demographics data, and apply their transformations to the customers data. That is, you should not be using a `.fit()` or `.fit_transform()` method to re-fit the old objects, nor should you be creating new sklearn objects! Carry the data through the feature scaling, PCA, and clustering steps, obtaining cluster assignments for all of the data in the customer demographics data."
   ]
  },
  {
   "cell_type": "code",
   "execution_count": 83,
   "metadata": {},
   "outputs": [],
   "source": [
    "# Load in the customer demographics data.\n",
    "customers = pd.read_csv('Udacity_CUSTOMERS_Subset.csv', sep=';')"
   ]
  },
  {
   "cell_type": "code",
   "execution_count": 84,
   "metadata": {},
   "outputs": [
    {
     "data": {
      "text/html": [
       "<div>\n",
       "<style scoped>\n",
       "    .dataframe tbody tr th:only-of-type {\n",
       "        vertical-align: middle;\n",
       "    }\n",
       "\n",
       "    .dataframe tbody tr th {\n",
       "        vertical-align: top;\n",
       "    }\n",
       "\n",
       "    .dataframe thead th {\n",
       "        text-align: right;\n",
       "    }\n",
       "</style>\n",
       "<table border=\"1\" class=\"dataframe\">\n",
       "  <thead>\n",
       "    <tr style=\"text-align: right;\">\n",
       "      <th></th>\n",
       "      <th>AGER_TYP</th>\n",
       "      <th>ALTERSKATEGORIE_GROB</th>\n",
       "      <th>ANREDE_KZ</th>\n",
       "      <th>CJT_GESAMTTYP</th>\n",
       "      <th>FINANZ_MINIMALIST</th>\n",
       "      <th>FINANZ_SPARER</th>\n",
       "      <th>FINANZ_VORSORGER</th>\n",
       "      <th>FINANZ_ANLEGER</th>\n",
       "      <th>FINANZ_UNAUFFAELLIGER</th>\n",
       "      <th>FINANZ_HAUSBAUER</th>\n",
       "      <th>...</th>\n",
       "      <th>PLZ8_ANTG1</th>\n",
       "      <th>PLZ8_ANTG2</th>\n",
       "      <th>PLZ8_ANTG3</th>\n",
       "      <th>PLZ8_ANTG4</th>\n",
       "      <th>PLZ8_BAUMAX</th>\n",
       "      <th>PLZ8_HHZ</th>\n",
       "      <th>PLZ8_GBZ</th>\n",
       "      <th>ARBEIT</th>\n",
       "      <th>ORTSGR_KLS9</th>\n",
       "      <th>RELAT_AB</th>\n",
       "    </tr>\n",
       "  </thead>\n",
       "  <tbody>\n",
       "    <tr>\n",
       "      <th>0</th>\n",
       "      <td>2</td>\n",
       "      <td>4</td>\n",
       "      <td>1</td>\n",
       "      <td>5.0</td>\n",
       "      <td>5</td>\n",
       "      <td>1</td>\n",
       "      <td>5</td>\n",
       "      <td>1</td>\n",
       "      <td>2</td>\n",
       "      <td>2</td>\n",
       "      <td>...</td>\n",
       "      <td>3.0</td>\n",
       "      <td>3.0</td>\n",
       "      <td>1.0</td>\n",
       "      <td>0.0</td>\n",
       "      <td>1.0</td>\n",
       "      <td>5.0</td>\n",
       "      <td>5.0</td>\n",
       "      <td>1.0</td>\n",
       "      <td>2.0</td>\n",
       "      <td>1.0</td>\n",
       "    </tr>\n",
       "    <tr>\n",
       "      <th>1</th>\n",
       "      <td>-1</td>\n",
       "      <td>4</td>\n",
       "      <td>1</td>\n",
       "      <td>NaN</td>\n",
       "      <td>5</td>\n",
       "      <td>1</td>\n",
       "      <td>5</td>\n",
       "      <td>1</td>\n",
       "      <td>3</td>\n",
       "      <td>2</td>\n",
       "      <td>...</td>\n",
       "      <td>NaN</td>\n",
       "      <td>NaN</td>\n",
       "      <td>NaN</td>\n",
       "      <td>NaN</td>\n",
       "      <td>NaN</td>\n",
       "      <td>NaN</td>\n",
       "      <td>NaN</td>\n",
       "      <td>NaN</td>\n",
       "      <td>NaN</td>\n",
       "      <td>NaN</td>\n",
       "    </tr>\n",
       "    <tr>\n",
       "      <th>2</th>\n",
       "      <td>-1</td>\n",
       "      <td>4</td>\n",
       "      <td>2</td>\n",
       "      <td>2.0</td>\n",
       "      <td>5</td>\n",
       "      <td>1</td>\n",
       "      <td>5</td>\n",
       "      <td>1</td>\n",
       "      <td>4</td>\n",
       "      <td>4</td>\n",
       "      <td>...</td>\n",
       "      <td>2.0</td>\n",
       "      <td>3.0</td>\n",
       "      <td>3.0</td>\n",
       "      <td>1.0</td>\n",
       "      <td>3.0</td>\n",
       "      <td>3.0</td>\n",
       "      <td>2.0</td>\n",
       "      <td>3.0</td>\n",
       "      <td>5.0</td>\n",
       "      <td>3.0</td>\n",
       "    </tr>\n",
       "    <tr>\n",
       "      <th>3</th>\n",
       "      <td>1</td>\n",
       "      <td>4</td>\n",
       "      <td>1</td>\n",
       "      <td>2.0</td>\n",
       "      <td>5</td>\n",
       "      <td>1</td>\n",
       "      <td>5</td>\n",
       "      <td>2</td>\n",
       "      <td>1</td>\n",
       "      <td>2</td>\n",
       "      <td>...</td>\n",
       "      <td>3.0</td>\n",
       "      <td>2.0</td>\n",
       "      <td>1.0</td>\n",
       "      <td>0.0</td>\n",
       "      <td>1.0</td>\n",
       "      <td>3.0</td>\n",
       "      <td>4.0</td>\n",
       "      <td>1.0</td>\n",
       "      <td>3.0</td>\n",
       "      <td>1.0</td>\n",
       "    </tr>\n",
       "    <tr>\n",
       "      <th>4</th>\n",
       "      <td>-1</td>\n",
       "      <td>3</td>\n",
       "      <td>1</td>\n",
       "      <td>6.0</td>\n",
       "      <td>3</td>\n",
       "      <td>1</td>\n",
       "      <td>4</td>\n",
       "      <td>4</td>\n",
       "      <td>5</td>\n",
       "      <td>2</td>\n",
       "      <td>...</td>\n",
       "      <td>2.0</td>\n",
       "      <td>4.0</td>\n",
       "      <td>2.0</td>\n",
       "      <td>1.0</td>\n",
       "      <td>2.0</td>\n",
       "      <td>3.0</td>\n",
       "      <td>3.0</td>\n",
       "      <td>3.0</td>\n",
       "      <td>5.0</td>\n",
       "      <td>1.0</td>\n",
       "    </tr>\n",
       "  </tbody>\n",
       "</table>\n",
       "<p>5 rows × 85 columns</p>\n",
       "</div>"
      ],
      "text/plain": [
       "   AGER_TYP  ALTERSKATEGORIE_GROB  ANREDE_KZ  CJT_GESAMTTYP  \\\n",
       "0         2                     4          1            5.0   \n",
       "1        -1                     4          1            NaN   \n",
       "2        -1                     4          2            2.0   \n",
       "3         1                     4          1            2.0   \n",
       "4        -1                     3          1            6.0   \n",
       "\n",
       "   FINANZ_MINIMALIST  FINANZ_SPARER  FINANZ_VORSORGER  FINANZ_ANLEGER  \\\n",
       "0                  5              1                 5               1   \n",
       "1                  5              1                 5               1   \n",
       "2                  5              1                 5               1   \n",
       "3                  5              1                 5               2   \n",
       "4                  3              1                 4               4   \n",
       "\n",
       "   FINANZ_UNAUFFAELLIGER  FINANZ_HAUSBAUER    ...     PLZ8_ANTG1  PLZ8_ANTG2  \\\n",
       "0                      2                 2    ...            3.0         3.0   \n",
       "1                      3                 2    ...            NaN         NaN   \n",
       "2                      4                 4    ...            2.0         3.0   \n",
       "3                      1                 2    ...            3.0         2.0   \n",
       "4                      5                 2    ...            2.0         4.0   \n",
       "\n",
       "   PLZ8_ANTG3  PLZ8_ANTG4  PLZ8_BAUMAX  PLZ8_HHZ  PLZ8_GBZ  ARBEIT  \\\n",
       "0         1.0         0.0          1.0       5.0       5.0     1.0   \n",
       "1         NaN         NaN          NaN       NaN       NaN     NaN   \n",
       "2         3.0         1.0          3.0       3.0       2.0     3.0   \n",
       "3         1.0         0.0          1.0       3.0       4.0     1.0   \n",
       "4         2.0         1.0          2.0       3.0       3.0     3.0   \n",
       "\n",
       "   ORTSGR_KLS9  RELAT_AB  \n",
       "0          2.0       1.0  \n",
       "1          NaN       NaN  \n",
       "2          5.0       3.0  \n",
       "3          3.0       1.0  \n",
       "4          5.0       1.0  \n",
       "\n",
       "[5 rows x 85 columns]"
      ]
     },
     "execution_count": 84,
     "metadata": {},
     "output_type": "execute_result"
    }
   ],
   "source": [
    "customers.head()"
   ]
  },
  {
   "cell_type": "code",
   "execution_count": 85,
   "metadata": {},
   "outputs": [
    {
     "name": "stderr",
     "output_type": "stream",
     "text": [
      "100%|██████████| 85/85 [00:00<00:00, 131.36it/s]\n"
     ]
    },
    {
     "name": "stdout",
     "output_type": "stream",
     "text": [
      "\n"
     ]
    }
   ],
   "source": [
    "# Apply preprocessing, feature transformation, and clustering from the general\n",
    "# demographics onto the customer data, obtaining cluster predictions for the\n",
    "# customer demographics data.\n",
    "\n",
    "customers = clean_data(customers, feat_info)\n",
    "customers = customers.dropna()\n",
    "customers_scaled = scaler.fit_transform(customers)"
   ]
  },
  {
   "cell_type": "code",
   "execution_count": 86,
   "metadata": {
    "scrolled": true
   },
   "outputs": [],
   "source": [
    "customers_pca = pca_selected.transform(customers_scaled)"
   ]
  },
  {
   "cell_type": "code",
   "execution_count": 16,
   "metadata": {},
   "outputs": [],
   "source": [
    "kmeans = KMeans(17, random_state=42).fit(customers_pca)\n",
    "customer_clusters = kmeans.predict(customers_pca)"
   ]
  },
  {
   "cell_type": "markdown",
   "metadata": {},
   "source": [
    "### Step 3.3: Compare Customer Data to Demographics Data\n",
    "\n",
    "At this point, you have clustered data based on demographics of the general population of Germany, and seen how the customer data for a mail-order sales company maps onto those demographic clusters. In this final substep, you will compare the two cluster distributions to see where the strongest customer base for the company is.\n",
    "\n",
    "Consider the proportion of persons in each cluster for the general population, and the proportions for the customers. If we think the company's customer base to be universal, then the cluster assignment proportions should be fairly similar between the two. If there are only particular segments of the population that are interested in the company's products, then we should see a mismatch from one to the other. If there is a higher proportion of persons in a cluster for the customer data compared to the general population (e.g. 5% of persons are assigned to a cluster for the general population, but 15% of the customer data is closest to that cluster's centroid) then that suggests the people in that cluster to be a target audience for the company. On the other hand, the proportion of the data in a cluster being larger in the general population than the customer data (e.g. only 2% of customers closest to a population centroid that captures 6% of the data) suggests that group of persons to be outside of the target demographics.\n",
    "\n",
    "Take a look at the following points in this step:\n",
    "\n",
    "- Compute the proportion of data points in each cluster for the general population and the customer data. Visualizations will be useful here: both for the individual dataset proportions, but also to visualize the ratios in cluster representation between groups. Seaborn's [`countplot()`](https://seaborn.pydata.org/generated/seaborn.countplot.html) or [`barplot()`](https://seaborn.pydata.org/generated/seaborn.barplot.html) function could be handy.\n",
    "  - Recall the analysis you performed in step 1.1.3 of the project, where you separated out certain data points from the dataset if they had more than a specified threshold of missing values. If you found that this group was qualitatively different from the main bulk of the data, you should treat this as an additional data cluster in this analysis. Make sure that you account for the number of data points in this subset, for both the general population and customer datasets, when making your computations!\n",
    "- Which cluster or clusters are overrepresented in the customer dataset compared to the general population? Select at least one such cluster and infer what kind of people might be represented by that cluster. Use the principal component interpretations from step 2.3 or look at additional components to help you make this inference. Alternatively, you can use the `.inverse_transform()` method of the PCA and StandardScaler objects to transform centroids back to the original data space and interpret the retrieved values directly.\n",
    "- Perform a similar investigation for the underrepresented clusters. Which cluster or clusters are underrepresented in the customer dataset compared to the general population, and what kinds of people are typified by these clusters?"
   ]
  },
  {
   "cell_type": "code",
   "execution_count": 60,
   "metadata": {},
   "outputs": [],
   "source": [
    "# Compare the proportion of data in each cluster for the customer data to the\n",
    "# proportion of data in each cluster for the general population.\n",
    "\n",
    "clusters_summary = pd.DataFrame(clusters, columns=['cluster']).groupby('cluster').agg('size').reset_index(name='general_counts')\n",
    "customer_clusters_summary = pd.DataFrame(customer_clusters, columns=['cluster']).groupby('cluster').agg('size').reset_index(name='customer_counts')\n",
    "comparison = pd.merge(clusters_summary, customer_clusters_summary, on='cluster')\n",
    "comparison['general_proportions'] = round(comparison['general_counts'] / comparison.general_counts.sum() * 100, 2)\n",
    "comparison['customer_proportions'] = round(comparison['customer_counts'] / comparison.customer_counts.sum() * 100, 2)\n",
    "comparison = comparison[['cluster', 'general_proportions', 'customer_proportions']]"
   ]
  },
  {
   "cell_type": "code",
   "execution_count": 66,
   "metadata": {},
   "outputs": [
    {
     "data": {
      "text/plain": [
       "<matplotlib.axes._subplots.AxesSubplot at 0x7f02b30bb438>"
      ]
     },
     "execution_count": 66,
     "metadata": {},
     "output_type": "execute_result"
    },
    {
     "data": {
      "image/png": "[encoded data removed]",
      "text/plain": [
       "<matplotlib.figure.Figure at 0x7f02b1ecbb00>"
      ]
     },
     "metadata": {
      "needs_background": "light"
     },
     "output_type": "display_data"
    }
   ],
   "source": [
    "comparison.plot(x='cluster', y=['general_proportions', 'customer_proportions'], kind='bar', figsize=(20, 5))"
   ]
  },
  {
   "cell_type": "code",
   "execution_count": 68,
   "metadata": {},
   "outputs": [],
   "source": [
    "comparison['representation'] = comparison['general_proportions'] - comparison['customer_proportions']"
   ]
  },
  {
   "cell_type": "code",
   "execution_count": 70,
   "metadata": {},
   "outputs": [],
   "source": [
    "over_in_customer = comparison[comparison.representation <= 0]\n",
    "under_in_customer = comparison[comparison.representation > 0]"
   ]
  },
  {
   "cell_type": "code",
   "execution_count": 71,
   "metadata": {},
   "outputs": [
    {
     "data": {
      "text/plain": [
       "[0, 1, 3, 4, 7, 8, 11, 12, 13]"
      ]
     },
     "execution_count": 71,
     "metadata": {},
     "output_type": "execute_result"
    }
   ],
   "source": [
    "list(over_in_customer.cluster)"
   ]
  },
  {
   "cell_type": "code",
   "execution_count": 73,
   "metadata": {},
   "outputs": [
    {
     "data": {
      "text/plain": [
       "[2, 5, 6, 9, 10, 14, 15, 16]"
      ]
     },
     "execution_count": 73,
     "metadata": {},
     "output_type": "execute_result"
    }
   ],
   "source": [
    "list(under_in_customer.cluster)"
   ]
  },
  {
   "cell_type": "code",
   "execution_count": 90,
   "metadata": {},
   "outputs": [
    {
     "data": {
      "text/plain": [
       "[12, 13]"
      ]
     },
     "execution_count": 90,
     "metadata": {},
     "output_type": "execute_result"
    }
   ],
   "source": [
    "# What kinds of people are part of a cluster that is overrepresented in the\n",
    "# customer data compared to the general population?\n",
    "\n",
    "# We're going to take Cluster: 0\n",
    "\n",
    "data_0 = pd.Series(kmeans.cluster_centers_[0])\n",
    "data_0.sort_values(ascending=False, inplace=True)\n",
    "components = list(data_0.head(2).index)\n",
    "\n",
    "data_0 = pd.Series(scaler.inverse_transform(pca_selected.inverse_transform(data_0))).round()\n",
    "data_0.index = customers.columns\n",
    "\n",
    "components"
   ]
  },
  {
   "cell_type": "code",
   "execution_count": 91,
   "metadata": {},
   "outputs": [
    {
     "data": {
      "text/html": [
       "<div>\n",
       "<style scoped>\n",
       "    .dataframe tbody tr th:only-of-type {\n",
       "        vertical-align: middle;\n",
       "    }\n",
       "\n",
       "    .dataframe tbody tr th {\n",
       "        vertical-align: top;\n",
       "    }\n",
       "\n",
       "    .dataframe thead th {\n",
       "        text-align: right;\n",
       "    }\n",
       "</style>\n",
       "<table border=\"1\" class=\"dataframe\">\n",
       "  <thead>\n",
       "    <tr style=\"text-align: right;\">\n",
       "      <th></th>\n",
       "      <th>CAMEO_DEUG_2015_3</th>\n",
       "      <th>CAMEO_DEU_2015_3C</th>\n",
       "      <th>CAMEO_DEU_2015_3D</th>\n",
       "      <th>CAMEO_DEUG_2015_7</th>\n",
       "      <th>PLZ8_HHZ</th>\n",
       "      <th>CAMEO_DEU_2015_6B</th>\n",
       "      <th>CAMEO_DEU_2015_4A</th>\n",
       "      <th>CAMEO_DEU_2015_4C</th>\n",
       "      <th>CAMEO_DEUG_2015_6</th>\n",
       "      <th>CAMEO_DEUG_2015_4</th>\n",
       "    </tr>\n",
       "  </thead>\n",
       "  <tbody>\n",
       "    <tr>\n",
       "      <th>11</th>\n",
       "      <td>0.472</td>\n",
       "      <td>0.315</td>\n",
       "      <td>0.292</td>\n",
       "      <td>0.201</td>\n",
       "      <td>0.141</td>\n",
       "      <td>-0.148</td>\n",
       "      <td>-0.15</td>\n",
       "      <td>-0.199</td>\n",
       "      <td>-0.213</td>\n",
       "      <td>-0.291</td>\n",
       "    </tr>\n",
       "  </tbody>\n",
       "</table>\n",
       "</div>"
      ],
      "text/plain": [
       "    CAMEO_DEUG_2015_3  CAMEO_DEU_2015_3C  CAMEO_DEU_2015_3D  \\\n",
       "11              0.472              0.315              0.292   \n",
       "\n",
       "    CAMEO_DEUG_2015_7  PLZ8_HHZ  CAMEO_DEU_2015_6B  CAMEO_DEU_2015_4A  \\\n",
       "11              0.201     0.141             -0.148              -0.15   \n",
       "\n",
       "    CAMEO_DEU_2015_4C  CAMEO_DEUG_2015_6  CAMEO_DEUG_2015_4  \n",
       "11             -0.199             -0.213             -0.291  "
      ]
     },
     "execution_count": 91,
     "metadata": {},
     "output_type": "execute_result"
    },
    {
     "data": {
      "image/png": "[encoded data removed]",
      "text/plain": [
       "<matplotlib.figure.Figure at 0x7f02b0e8b630>"
      ]
     },
     "metadata": {
      "needs_background": "light"
     },
     "output_type": "display_data"
    }
   ],
   "source": [
    "plot_component(data=customers, k=12, pca=pca_selected)"
   ]
  },
  {
   "cell_type": "code",
   "execution_count": 92,
   "metadata": {},
   "outputs": [
    {
     "data": {
      "text/html": [
       "<div>\n",
       "<style scoped>\n",
       "    .dataframe tbody tr th:only-of-type {\n",
       "        vertical-align: middle;\n",
       "    }\n",
       "\n",
       "    .dataframe tbody tr th {\n",
       "        vertical-align: top;\n",
       "    }\n",
       "\n",
       "    .dataframe thead th {\n",
       "        text-align: right;\n",
       "    }\n",
       "</style>\n",
       "<table border=\"1\" class=\"dataframe\">\n",
       "  <thead>\n",
       "    <tr style=\"text-align: right;\">\n",
       "      <th></th>\n",
       "      <th>CAMEO_DEUG_2015_4</th>\n",
       "      <th>LP_FAMILIE_GROB_4.0</th>\n",
       "      <th>CAMEO_DEU_2015_4C</th>\n",
       "      <th>CAMEO_DEU_2015_4A</th>\n",
       "      <th>LP_FAMILIE_FEIN_8.0</th>\n",
       "      <th>CAMEO_DEU_2015_2D</th>\n",
       "      <th>LP_STATUS_GROB_3.0</th>\n",
       "      <th>CAMEO_DEUG_2015_6</th>\n",
       "      <th>CAMEO_DEUG_2015_7</th>\n",
       "      <th>CAMEO_DEUG_2015_2</th>\n",
       "    </tr>\n",
       "  </thead>\n",
       "  <tbody>\n",
       "    <tr>\n",
       "      <th>12</th>\n",
       "      <td>0.331</td>\n",
       "      <td>0.225</td>\n",
       "      <td>0.221</td>\n",
       "      <td>0.167</td>\n",
       "      <td>0.146</td>\n",
       "      <td>-0.169</td>\n",
       "      <td>-0.177</td>\n",
       "      <td>-0.178</td>\n",
       "      <td>-0.199</td>\n",
       "      <td>-0.28</td>\n",
       "    </tr>\n",
       "  </tbody>\n",
       "</table>\n",
       "</div>"
      ],
      "text/plain": [
       "    CAMEO_DEUG_2015_4  LP_FAMILIE_GROB_4.0  CAMEO_DEU_2015_4C  \\\n",
       "12              0.331                0.225              0.221   \n",
       "\n",
       "    CAMEO_DEU_2015_4A  LP_FAMILIE_FEIN_8.0  CAMEO_DEU_2015_2D  \\\n",
       "12              0.167                0.146             -0.169   \n",
       "\n",
       "    LP_STATUS_GROB_3.0  CAMEO_DEUG_2015_6  CAMEO_DEUG_2015_7  \\\n",
       "12              -0.177             -0.178             -0.199   \n",
       "\n",
       "    CAMEO_DEUG_2015_2  \n",
       "12              -0.28  "
      ]
     },
     "execution_count": 92,
     "metadata": {},
     "output_type": "execute_result"
    },
    {
     "data": {
      "image/png": "[encoded data removed]",
      "text/plain": [
       "<matplotlib.figure.Figure at 0x7f02b0c4e860>"
      ]
     },
     "metadata": {
      "needs_background": "light"
     },
     "output_type": "display_data"
    }
   ],
   "source": [
    "plot_component(data=customers, k=13, pca=pca_selected)"
   ]
  },
  {
   "cell_type": "code",
   "execution_count": 93,
   "metadata": {},
   "outputs": [
    {
     "data": {
      "text/plain": [
       "[14, 4]"
      ]
     },
     "execution_count": 93,
     "metadata": {},
     "output_type": "execute_result"
    }
   ],
   "source": [
    "# What kinds of people are part of a cluster that is underrepresented in the\n",
    "# customer data compared to the general population?\n",
    "\n",
    "# We're going to take Cluster: 2\n",
    "\n",
    "data_2 = pd.Series(kmeans.cluster_centers_[2])\n",
    "data_2.sort_values(ascending=False, inplace=True)\n",
    "components = list(data_2.head(2).index)\n",
    "\n",
    "data_2 = pd.Series(scaler.inverse_transform(pca_selected.inverse_transform(data_2))).round()\n",
    "data_2.index = customers.columns\n",
    "\n",
    "components"
   ]
  },
  {
   "cell_type": "code",
   "execution_count": 94,
   "metadata": {},
   "outputs": [
    {
     "data": {
      "text/html": [
       "<div>\n",
       "<style scoped>\n",
       "    .dataframe tbody tr th:only-of-type {\n",
       "        vertical-align: middle;\n",
       "    }\n",
       "\n",
       "    .dataframe tbody tr th {\n",
       "        vertical-align: top;\n",
       "    }\n",
       "\n",
       "    .dataframe thead th {\n",
       "        text-align: right;\n",
       "    }\n",
       "</style>\n",
       "<table border=\"1\" class=\"dataframe\">\n",
       "  <thead>\n",
       "    <tr style=\"text-align: right;\">\n",
       "      <th></th>\n",
       "      <th>CAMEO_DEUG_2015_1</th>\n",
       "      <th>CAMEO_DEU_2015_1D</th>\n",
       "      <th>CAMEO_DEUG_2015_4</th>\n",
       "      <th>CAMEO_DEU_2015_1A</th>\n",
       "      <th>CAMEO_DEUG_2015_3</th>\n",
       "      <th>CAMEO_DEUG_2015_5</th>\n",
       "      <th>LP_FAMILIE_FEIN_7.0</th>\n",
       "      <th>LP_FAMILIE_FEIN_8.0</th>\n",
       "      <th>CAMEO_DEUG_2015_2</th>\n",
       "      <th>LP_FAMILIE_GROB_4.0</th>\n",
       "    </tr>\n",
       "  </thead>\n",
       "  <tbody>\n",
       "    <tr>\n",
       "      <th>13</th>\n",
       "      <td>0.285</td>\n",
       "      <td>0.157</td>\n",
       "      <td>0.156</td>\n",
       "      <td>0.155</td>\n",
       "      <td>0.152</td>\n",
       "      <td>-0.193</td>\n",
       "      <td>-0.203</td>\n",
       "      <td>-0.209</td>\n",
       "      <td>-0.293</td>\n",
       "      <td>-0.322</td>\n",
       "    </tr>\n",
       "  </tbody>\n",
       "</table>\n",
       "</div>"
      ],
      "text/plain": [
       "    CAMEO_DEUG_2015_1  CAMEO_DEU_2015_1D  CAMEO_DEUG_2015_4  \\\n",
       "13              0.285              0.157              0.156   \n",
       "\n",
       "    CAMEO_DEU_2015_1A  CAMEO_DEUG_2015_3  CAMEO_DEUG_2015_5  \\\n",
       "13              0.155              0.152             -0.193   \n",
       "\n",
       "    LP_FAMILIE_FEIN_7.0  LP_FAMILIE_FEIN_8.0  CAMEO_DEUG_2015_2  \\\n",
       "13               -0.203               -0.209             -0.293   \n",
       "\n",
       "    LP_FAMILIE_GROB_4.0  \n",
       "13               -0.322  "
      ]
     },
     "execution_count": 94,
     "metadata": {},
     "output_type": "execute_result"
    },
    {
     "data": {
      "image/png": "[encoded data removed]",
      "text/plain": [
       "<matplotlib.figure.Figure at 0x7f02b0c2c0f0>"
      ]
     },
     "metadata": {
      "needs_background": "light"
     },
     "output_type": "display_data"
    }
   ],
   "source": [
    "plot_component(data=customers, k=14, pca=pca_selected)"
   ]
  },
  {
   "cell_type": "code",
   "execution_count": 95,
   "metadata": {},
   "outputs": [
    {
     "data": {
      "text/html": [
       "<div>\n",
       "<style scoped>\n",
       "    .dataframe tbody tr th:only-of-type {\n",
       "        vertical-align: middle;\n",
       "    }\n",
       "\n",
       "    .dataframe tbody tr th {\n",
       "        vertical-align: top;\n",
       "    }\n",
       "\n",
       "    .dataframe thead th {\n",
       "        text-align: right;\n",
       "    }\n",
       "</style>\n",
       "<table border=\"1\" class=\"dataframe\">\n",
       "  <thead>\n",
       "    <tr style=\"text-align: right;\">\n",
       "      <th></th>\n",
       "      <th>LP_LEBENSPHASE_FEIN</th>\n",
       "      <th>LP_FAMILIE_GROB_5.0</th>\n",
       "      <th>ANZ_PERSONEN</th>\n",
       "      <th>KKK</th>\n",
       "      <th>LP_FAMILIE_FEIN_10.0</th>\n",
       "      <th>PLZ8_GBZ</th>\n",
       "      <th>PRAEGENDE_JUGENDJAHRE_MOVEMENT</th>\n",
       "      <th>PRAEGENDE_JUGENDJAHRE_DECADE</th>\n",
       "      <th>LP_FAMILIE_GROB_1.0</th>\n",
       "      <th>LP_FAMILIE_FEIN_1.0</th>\n",
       "    </tr>\n",
       "  </thead>\n",
       "  <tbody>\n",
       "    <tr>\n",
       "      <th>3</th>\n",
       "      <td>0.24</td>\n",
       "      <td>0.224</td>\n",
       "      <td>0.212</td>\n",
       "      <td>0.192</td>\n",
       "      <td>0.182</td>\n",
       "      <td>-0.125</td>\n",
       "      <td>-0.158</td>\n",
       "      <td>-0.204</td>\n",
       "      <td>-0.255</td>\n",
       "      <td>-0.255</td>\n",
       "    </tr>\n",
       "  </tbody>\n",
       "</table>\n",
       "</div>"
      ],
      "text/plain": [
       "   LP_LEBENSPHASE_FEIN  LP_FAMILIE_GROB_5.0  ANZ_PERSONEN    KKK  \\\n",
       "3                 0.24                0.224         0.212  0.192   \n",
       "\n",
       "   LP_FAMILIE_FEIN_10.0  PLZ8_GBZ  PRAEGENDE_JUGENDJAHRE_MOVEMENT  \\\n",
       "3                 0.182    -0.125                          -0.158   \n",
       "\n",
       "   PRAEGENDE_JUGENDJAHRE_DECADE  LP_FAMILIE_GROB_1.0  LP_FAMILIE_FEIN_1.0  \n",
       "3                        -0.204               -0.255               -0.255  "
      ]
     },
     "execution_count": 95,
     "metadata": {},
     "output_type": "execute_result"
    },
    {
     "data": {
      "image/png": "[encoded data removed]",
      "text/plain": [
       "<matplotlib.figure.Figure at 0x7f02b1890470>"
      ]
     },
     "metadata": {
      "needs_background": "light"
     },
     "output_type": "display_data"
    }
   ],
   "source": [
    "plot_component(data=customers, k=4, pca=pca_selected)"
   ]
  },
  {
   "cell_type": "markdown",
   "metadata": {},
   "source": [
    "### Discussion 3.3: Compare Customer Data to Demographics Data\n",
    "\n",
    "#### For Overrepresentation in Customer Data\n",
    "\n",
    "We've taken cluster **0**. Here are the top two PCs explained:\n",
    "\n",
    "**PC1: 12**:\n",
    "\n",
    "**Positive Affect**:\n",
    "\n",
    "- `CAMEO_DEUG_2015_3`: Established Middleclass\n",
    "- `CAMEO_DEU_2015_3C`: Rural Neighborhood\n",
    "- `CAMEO_DEU_2015_3D`: Secure Retirement\n",
    "- `CAMEO_DEUG_2015_7`: Lower Middleclass\n",
    "- `PLZ8_HHZ`: Number of Households within the PLZ8 region\n",
    "\n",
    "**Negative Affect**:\n",
    "\n",
    "- `CAMEO_DEU_2015_6B`: Petty Bourgeois\n",
    "- `CAMEO_DEU_2015_4A`: Family Starter\n",
    "- `CAMEO_DEU_2015_4C`: String Trimmer\n",
    "- `CAMEO_DEUG_2015_6`: Low-Consumption Middleclass\n",
    "- `CAMEO_DEUG_2015_4`: Consumption-oriented Middleclass\n",
    "\n",
    "**Description**: Here, we can see that the PC defines secured middleclass households in rural areas. The negative affect for this PC is from bourgeois and families as well as consumption metered middleclass households. In a way, we can see this defines balanced rural middleclass households.\n",
    "\n",
    "-----\n",
    "\n",
    "**PC2: 13**:\n",
    "\n",
    "**Positive Affect**:\n",
    "\n",
    "- `CAMEO_DEUG_2015_4`: Consumption-oriented Middleclass\n",
    "- `LP_FAMILIE_GROB_4.0`: Family\n",
    "- `CAMEO_DEU_2015_4C`: String Trimmer\n",
    "- `CAMEO_DEU_2015_4A`: Family Starter\n",
    "- `LP_FAMILIE_FEIN_8.0`: Family with Child of Full Age\n",
    "\n",
    "**Negative Affect**:\n",
    "\n",
    "- `CAMEO_DEU_2015_2D`: Fine Management\n",
    "- `LP_STATUS_GROB_3.0`: Independents\n",
    "- `CAMEO_DEUG_2015_6`: Low-Consumption Middleclass\n",
    "- `CAMEO_DEUG_2015_7`: Lower Middleclass\n",
    "- `CAMEO_DEUG_2015_2`: Upper Middleclass\n",
    "\n",
    "**Description**: Opposing to the previous PC, this one is an opposite of it. In other words, this covers consumption-based middleclass households with children who tend to be more consumption oriented.\n",
    "\n",
    "### Conclusion for Cluster 0:\n",
    "\n",
    "> Middleclass Households both with and without an orientation towards consumption are included in this cluster. These can be families that are being started or secure households, mostly rural.\n",
    "\n",
    "-----\n",
    "-----\n",
    "\n",
    "#### For Underrepresentation in Customer Data\n",
    "\n",
    "We've taken cluster **2**. Here are the top two PCs explained:\n",
    "\n",
    "**PC1: 14**:\n",
    "\n",
    "**Positive Affect**:\n",
    "\n",
    "- `CAMEO_DEUG_2015_1`: Upper Class\n",
    "- `CAMEO_DEU_2015_1D`: Old Nobility\n",
    "- `CAMEO_DEUG_2015_4`: Consumption-oriented Middleclass\n",
    "- `CAMEO_DEU_2015_1A`: Work-Life-Balance\n",
    "- `CAMEO_DEUG_2015_3`: Established Middleclass\n",
    "\n",
    "**Negative Affect**:\n",
    "\n",
    "- `CAMEO_DEUG_2015_5`: Active Middleclass\n",
    "- `LP_FAMILIE_FEIN_7.0`: Family with Teenager\n",
    "- `LP_FAMILIE_FEIN_8.0`: Family with Child of Full Age\n",
    "- `CAMEO_DEUG_2015_2`: Upper Middleclass\n",
    "- `LP_FAMILIE_GROB_4.0`:  Family\n",
    "\n",
    "**Description**: PC14 tells about the upper section on the class hierarchy with the positive affect coming to those who tend to spend more and buy more. The upper class, nobility, middleclass, and those with a work-life balance. This is a purely class-based principal component focused on the higher classes. The classes and households with family have a negative weightage here.\n",
    "\n",
    "-----\n",
    "\n",
    "**PC2: 4**:\n",
    "\n",
    "**Positive Affect**:\n",
    "\n",
    "- `LP_LEBENSPHASE_FEIN`: Life Stage, Fine Scale\n",
    "- `LP_FAMILIE_GROB_5.0`: Multiperson Household\n",
    "- `ANZ_PERSONEN`: Number of Adults in Household\n",
    "- `KKK`: Purchasing Power in Region\n",
    "- `LP_FAMILIE_FEIN_10.0`: Two-Generational Household\n",
    "\n",
    "**Negative Affect**:\n",
    "\n",
    "- `PLZ8_GBZ`: Number of Buildings within the PLZ8 Region\n",
    "- `PRAEGENDE_JUGENDJAHRE_MOVEMENT`: Dominating Movement of a Person's Youth\n",
    "- `PRAEGENDE_JUGENDJAHRE_DECADE`: Dominating Decade of a Person's Youth\n",
    "- `LP_FAMILIE_GROB_1.0`: Single\n",
    "- `LP_FAMILIE_FEIN_1.0`: Single\n",
    "\n",
    "**Description**: This last PC talks about larger households, possibly spanning generations. Here, the number of adults in the household has a positive affect which confirms the assumption that these are larger households. The negative affect from Single on both fine and rough scales adds more understanding for this principal component. Here, the dominating movement and decades have a negative affect because probably in a large household, you would have representatives from each value in those variables.\n",
    "\n",
    "### Conclusion for Cluster 2:\n",
    "\n",
    "> Upper and upper-middleclass, larger families who have more purchasing power. This cluster is dominated by the factors such as number of adults in each household. Here, the qualitative or generational factors don't come at play because of these being larger families. These are people who will probably be more oriented towards consumption by choice or by nature.\n",
    "\n",
    "-----\n"
   ]
  },
  {
   "cell_type": "markdown",
   "metadata": {},
   "source": [
    "> Congratulations on making it this far in the project! Before you finish, make sure to check through the entire notebook from top to bottom to make sure that your analysis follows a logical flow and all of your findings are documented in **Discussion** cells. Once you've checked over all of your work, you should export the notebook as an HTML document to submit for evaluation. You can do this from the menu, navigating to **File -> Download as -> HTML (.html)**. You will submit both that document and this notebook for your project submission."
   ]
  },
  {
   "cell_type": "code",
   "execution_count": null,
   "metadata": {},
   "outputs": [],
   "source": []
  }
 ],
 "metadata": {
  "kernelspec": {
   "display_name": "Python 3",
   "language": "python",
   "name": "python3"
  },
  "language_info": {
   "codemirror_mode": {
    "name": "ipython",
    "version": 3
   },
   "file_extension": ".py",
   "mimetype": "text/x-python",
   "name": "python",
   "nbconvert_exporter": "python",
   "pygments_lexer": "ipython3",
   "version": "3.6.3"
  }
 },
 "nbformat": 4,
 "nbformat_minor": 2
}
